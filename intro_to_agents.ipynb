{
 "cells": [
  {
   "cell_type": "markdown",
   "id": "85671824",
   "metadata": {},
   "source": [
    "# Introduction to Building LLM Agents with Tools and Tracing\n",
    "\n",
    "This script walks through the process of building a simple LLM-powered agent that can use tools (functions) to answer questions. We'll cover:\n",
    "1. Making basic LLM calls.\n",
    "2. Introducing Weave for tracing and observability.\n",
    "3. Defining tools for the LLM (manually and automatically).\n",
    "4. Implementing a basic agentic loop.\n",
    "5. Structuring the agent using Python classes.\n",
    "6. Running the agent on a multi-step task."
   ]
  },
  {
   "cell_type": "markdown",
   "id": "803fbc4f",
   "metadata": {},
   "source": [
    "**Prerequisites:**\n",
    "Make sure you have the necessary libraries installed:\n",
    "```bash\n",
    "!pip install weave requests \"mistralai[gcp]>=1.0.0\"\n",
    "```\n"
   ]
  },
  {
   "cell_type": "code",
   "execution_count": 1,
   "id": "96d103af",
   "metadata": {},
   "outputs": [],
   "source": [
    "# Global Configuration & Setup\n",
    "import inspect\n",
    "import json\n",
    "import os\n",
    "import requests\n",
    "import weave # Must import weave before litellm for auto-patching\n",
    "from enum import Enum\n",
    "from pydantic import BaseModel, Field\n",
    "from rich.pretty import pprint\n",
    "from typing import Any, Callable, Dict, List, get_type_hints\n",
    "\n",
    "# from mistralai_gcp import MistralGoogleCloud\n",
    "from mistralai import Mistral"
   ]
  },
  {
   "cell_type": "markdown",
   "id": "78cf6667",
   "metadata": {},
   "source": [
    "Define a model to use, as we are going to use tool calling you need a capable model like `mistral-large`"
   ]
  },
  {
   "cell_type": "code",
   "execution_count": 3,
   "id": "8874a614",
   "metadata": {},
   "outputs": [],
   "source": [
    "\n",
    "# Set the model name you want to use globally.\n",
    "\n",
    "MISTRAL_LARGE_MODEL = \"mistral-large-2411\" # vertex name for the model\n",
    "MISTRAL_MEDIUM_MODEL = \"mistral-medium-latest\"\n",
    "MISTRAL_SMALL_MODEL = \"mistral-small-2503\"\n",
    "\n",
    "client = Mistral(api_key=os.environ.get(\"MISTRAL_API_KEY\"))\n",
    "\n",
    "# region = os.environ.get(\"GOOGLE_CLOUD_REGION\")\n",
    "# project_id = os.environ.get(\"GOOGLE_CLOUD_PROJECT_ID\")\n",
    "# client = MistralGoogleCloud(region=region, project_id=project_id, timeout_ms=120_000)"
   ]
  },
  {
   "cell_type": "markdown",
   "id": "d48c55be",
   "metadata": {},
   "source": [
    "Let's log to [W&B Weave](https://weave-docs.wandb.ai/). Weights & Biases (W&B) Weave is a framework for tracking, experimenting with, evaluating, deploying, and improving LLM-based applications. Designed for flexibility and scalability, Weave supports every stage of your LLM application development workflow:\n",
    "\n",
    "- Tracing & Monitoring: Track LLM calls and application logic to debug and analyze production systems.\n",
    "- Systematic Iteration: Refine and iterate on prompts, datasets, and models.\n",
    "- Experimentation: Experiment with different models and prompts in the LLM Playground.\n",
    "- Evaluation: Use custom or pre-built scorers alongside our comparison tools to systematically assess and enhance application performance.\n",
    "- Guardrails: Protect your application with pre- and post-safeguards for content moderation, prompt safety, and more."
   ]
  },
  {
   "cell_type": "code",
   "execution_count": 4,
   "id": "e70b57d9",
   "metadata": {},
   "outputs": [
    {
     "name": "stderr",
     "output_type": "stream",
     "text": [
      "/Users/tcapelle/work/phd_researcher/.venv/lib/python3.12/site-packages/tqdm/auto.py:21: TqdmWarning: IProgress not found. Please update jupyter and ipywidgets. See https://ipywidgets.readthedocs.io/en/stable/user_install.html\n",
      "  from .autonotebook import tqdm as notebook_tqdm\n"
     ]
    },
    {
     "name": "stdout",
     "output_type": "stream",
     "text": [
      "weave version 0.51.45 is available!  To upgrade, please run:\n",
      " $ pip install weave --upgrade\n",
      "Logged in as Weights & Biases user: capecape.\n",
      "View Weave data at https://wandb.ai/capecape/paris-woprkshop-2025/weave\n"
     ]
    },
    {
     "data": {
      "text/plain": [
       "<weave.trace.weave_client.WeaveClient at 0x1233f6f60>"
      ]
     },
     "execution_count": 4,
     "metadata": {},
     "output_type": "execute_result"
    }
   ],
   "source": [
    "\n",
    "# Initialize a Weave project. Traces will be sent here.\n",
    "# You can view them in the Weave UI (usually runs locally).\n",
    "weave.init('paris-woprkshop-2025')"
   ]
  },
  {
   "cell_type": "markdown",
   "id": "13266e05",
   "metadata": {},
   "source": [
    "## 1. Basic LLM Call with Mistral SDK\n",
    "\n",
    "Let's start with a simple call to the LLM using/\n",
    "\n",
    "![](images/01_trace.png)"
   ]
  },
  {
   "cell_type": "code",
   "execution_count": 5,
   "id": "f9ec1b77",
   "metadata": {},
   "outputs": [
    {
     "name": "stdout",
     "output_type": "stream",
     "text": [
      "🍩 https://wandb.ai/capecape/paris-woprkshop-2025/r/call/0196b429-a314-7043-bce8-ea84afc3a2f0\n",
      "LLM Response:\\nHello! An AI agent is a software entity that can perceive its environment and take actions to achieve its goals. Here's a simplified breakdown of how an AI agent typically works:\n",
      "\n",
      "1. **Perception**: The agent receives inputs from its environment through sensors or data sources. These inputs can be in various forms, such as text, images, audio, or other types of data.\n",
      "\n",
      "2. **Processing**: The agent processes the received inputs using algorithms and models. This step involves several sub-processes:\n",
      "   - **Understanding**: The agent interprets the inputs to understand the current state of the environment.\n",
      "   - **Learning**: If the agent is designed to learn, it updates its internal models or parameters based on new data.\n",
      "   - **Planning**: The agent decides on a course of action to achieve its goals. This could involve searching through possible actions and predicting their outcomes.\n",
      "\n",
      "3. **Action**: Based on its processing, the agent selects and performs an action. This action can be physical (like moving a robot's arm) or digital (like sending a message or adjusting a setting).\n",
      "\n",
      "4. **Feedback**: The agent observes the results of its action and updates its internal state. This feedback loop allows the agent to learn and improve over time.\n",
      "\n",
      "### Key Components of an AI Agent\n",
      "\n",
      "1. **Sensors**: Devices or software that collect data from the environment. Examples include cameras, microphones, and data feeds.\n",
      "\n",
      "2. **Actuators**: Devices or software that allow the agent to interact with the environment. Examples include motors, speakers, and software interfaces.\n",
      "\n",
      "3. **Knowledge Base**: A repository of information that the agent uses to make decisions. This can include rules, models, and learned data.\n",
      "\n",
      "4. **Reasoning Engine**: The part of the agent that processes inputs and makes decisions. This can involve various techniques like rule-based systems, machine learning models, and optimization algorithms.\n",
      "\n",
      "5. **Learning Mechanisms**: Algorithms that allow the agent to improve its performance over time. This can include supervised learning, reinforcement learning, and unsupervised learning.\n",
      "\n",
      "### Types of AI Agents\n",
      "\n",
      "1. **Simple Reflex Agents**: Respond to the current percept (input) without considering the history of percepts.\n",
      "2. **Model-Based Reflex Agents**: Maintain an internal model of the world and use it to make decisions.\n",
      "3. **Goal-Based Agents**: Have explicit goals and use search algorithms to find actions that achieve these goals.\n",
      "4. **Utility-Based Agents**: Choose actions based on a utility function that measures the desirability of different outcomes.\n",
      "5. **Learning Agents**: Improve their performance over time by learning from experience.\n",
      "\n",
      "### Example\n",
      "\n",
      "A simple example of an AI agent is a chatbot. The chatbot receives text inputs (perception), processes them to understand the user's intent (processing), generates a response (action), and may learn from the interaction to improve future responses (feedback).\n",
      "\n",
      "In summary, an AI agent works by perceiving its environment, processing the inputs to make decisions, taking actions, and learning from the outcomes to improve over time.\n"
     ]
    }
   ],
   "source": [
    "# Define a simple message list (conversation history)\n",
    "messages = [{\"role\": \"user\", \"content\": \"Hello, LLM! How does an AI agent work?\"}]\n",
    "\n",
    "# Make the call\n",
    "response = resp = client.chat.complete(\n",
    "    model = MISTRAL_SMALL_MODEL,\n",
    "    messages=messages,\n",
    ")\n",
    "# Print the response content\n",
    "assistant_response = response.choices[0].message.content\n",
    "print(f\"LLM Response:\\\\n{assistant_response}\")\n",
    "\n",
    "# Click on the 🍩 linke below to see the trace in Weave 👇"
   ]
  },
  {
   "cell_type": "markdown",
   "id": "795ead84",
   "metadata": {},
   "source": [
    "Because we imported `weave` before `litellm` and called `weave.init()`, the Mistral SDK call above was automatically traced. You can open your Weave dashboard and see the trace, including the input messages, output response, latency, model used, etc. This is invaluable for debugging and monitoring."
   ]
  },
  {
   "cell_type": "code",
   "execution_count": 6,
   "id": "eb90b937",
   "metadata": {},
   "outputs": [
    {
     "name": "stdout",
     "output_type": "stream",
     "text": [
      "🍩 https://wandb.ai/capecape/paris-woprkshop-2025/r/call/0196b42d-a10b-7e73-b4c1-062718005581\n",
      "🍩 https://wandb.ai/capecape/paris-woprkshop-2025/r/call/0196b435-26eb-7671-b645-1d7b64d25a86\n",
      "🍩 https://wandb.ai/capecape/paris-woprkshop-2025/r/call/0196b435-2b07-75b2-a87e-c8d8a4309881\n",
      "🍩 https://wandb.ai/capecape/paris-woprkshop-2025/r/call/0196b438-f8f8-7921-9a05-61c9e373fb26\n",
      "🍩 https://wandb.ai/capecape/paris-woprkshop-2025/r/call/0196b439-8e6f-70e3-80c4-683735ba8852\n",
      "🍩 https://wandb.ai/capecape/paris-woprkshop-2025/r/call/0196b448-a265-74b3-a335-1887292fe54a🍩 https://wandb.ai/capecape/paris-woprkshop-2025/r/call/0196b448-579c-7bc1-bfb2-bf16ccb6e925\n",
      "\n",
      "🍩 https://wandb.ai/capecape/paris-woprkshop-2025/r/call/0196b44a-9a45-7b62-bb55-67957946885f\n",
      "🍩 https://wandb.ai/capecape/paris-woprkshop-2025/r/call/0196b450-e4a3-77e1-b9eb-c4ed9d08ec58\n",
      "🍩 https://wandb.ai/capecape/paris-woprkshop-2025/r/call/0196b485-6fe3-70a2-94f6-e066b4c350fc\n",
      "🍩 https://wandb.ai/capecape/paris-woprkshop-2025/r/call/0196b487-6772-7253-8f55-ae5cb138be3c\n",
      "🍩 https://wandb.ai/capecape/paris-woprkshop-2025/r/call/0196b48e-e291-7161-bb67-aa89dd3f0c46\n",
      "🍩 https://wandb.ai/capecape/paris-woprkshop-2025/r/call/0196b490-602b-71f0-80e5-770120c59fa5\n",
      "🍩 https://wandb.ai/capecape/paris-woprkshop-2025/r/call/0196b490-c5df-7cf1-b3a6-16c05c0700af\n",
      "🍩 https://wandb.ai/capecape/paris-woprkshop-2025/r/call/0196b491-33e1-7253-89b1-6fdc30eb302d\n"
     ]
    },
    {
     "name": "stdout",
     "output_type": "stream",
     "text": [
      "Hello! An AI agent is a system designed to perceive its environment and take actions to achieve specific goals. Here's a simplified breakdown of how an AI agent typically works:\n",
      "\n",
      "### 1. **Perception**\n",
      "   - **Sensors**: The agent uses sensors to gather data from its environment. These sensors can be physical (like cameras, microphones, or temperature sensors) or virtual (like data feeds from the internet).\n",
      "   - **Data Processing**: The raw data collected by the sensors is processed to extract meaningful information. This might involve image recognition, natural language processing, or other forms of data analysis.\n",
      "\n",
      "### 2. **Decision Making**\n",
      "   - **Model**: The agent uses a model to make decisions. This model can be based on rules, machine learning algorithms, or a combination of both.\n",
      "   - **Learning**: If the agent is based on machine learning, it may update its model over time based on new data and feedback. This is often done through techniques like reinforcement learning, supervised learning, or unsupervised learning.\n",
      "   - **Optimization**: The agent aims to optimize its actions to achieve its goals. This might involve minimizing costs, maximizing rewards, or achieving specific outcomes.\n",
      "\n",
      "### 3. **Action**\n",
      "   - **Actuators**: The agent uses actuators to perform actions in the environment. These can be physical (like robotic arms, motors, or speakers) or virtual (like sending commands to a software system).\n",
      "   - **Execution**: The agent executes the actions determined by its decision-making process.\n",
      "\n",
      "### 4. **Feedback Loop**\n",
      "   - **Monitoring**: The agent monitors the results of its actions to see if they achieve the desired outcomes.\n",
      "   - **Adaptation**: Based on the feedback, the agent may adjust its model or strategy to improve future performance.\n",
      "\n",
      "### Key Components\n",
      "- **Environment**: The world in which the agent operates.\n",
      "- **Actuators**: Devices that allow the agent to interact with the environment.\n",
      "- **Sensors**: Devices that allow the agent to perceive the environment.\n",
      "- **Agent Function**: The core logic that determines the agent's actions based on its perceptions and goals.\n",
      "\n",
      "### Types of AI Agents\n",
      "- **Simple Reflex Agents**: React to the current percept (input) without using any internal state.\n",
      "- **Model-Based Reflex Agents**: Use an internal model of the world to make decisions.\n",
      "- **Goal-Based Agents**: Have a goal and use a search algorithm to find a sequence of actions that achieve the goal.\n",
      "- **Utility-Based Agents**: Choose actions based on a utility function that assigns a value to each possible outcome.\n",
      "- **Learning Agents**: Improve their performance over time by learning from experience.\n",
      "\n",
      "### Example\n",
      "Consider a self-driving car:\n",
      "- **Perception**: Cameras and sensors detect other vehicles, pedestrians, and road conditions.\n",
      "- **Decision Making**: The car's AI uses a combination of rules and machine learning to decide the best path and speed.\n",
      "- **Action**: The car's actuators (steering, brakes, accelerator) execute the decisions.\n",
      "- **Feedback Loop**: The car continuously monitors its actions and adjusts its decisions based on new data.\n",
      "\n",
      "This is a high-level overview, and the specifics can vary greatly depending on the application and the complexity of the AI agent.\n"
     ]
    }
   ],
   "source": [
    "# most of the time you would want to define your own operations to trace, for instance to call the model.\n",
    "# You just need to add the @weave.op decorator to the function and it will be traced.\n",
    "\n",
    "@weave.op\n",
    "def call_model(model_name: str, messages: List[Dict[str, Any]], **kwargs) -> str:\n",
    "    \"Call a model with the given messages and kwargs.\"\n",
    "    response = client.chat.complete(\n",
    "        model=model_name,\n",
    "        messages=messages,\n",
    "        **kwargs\n",
    "    )\n",
    "\n",
    "    return response.choices[0].message\n",
    "\n",
    "response = call_model(model_name=MISTRAL_SMALL_MODEL, messages=messages)\n",
    "print(response.content)"
   ]
  },
  {
   "cell_type": "markdown",
   "id": "4e97c8b6",
   "metadata": {},
   "source": [
    "![](images/02_nested_trace.png)"
   ]
  },
  {
   "cell_type": "markdown",
   "id": "75409570",
   "metadata": {},
   "source": [
    "\n",
    "## 2. Introducing Tool Calling\n",
    "\n",
    "Agents become much more powerful when they can use **tools** – external functions or APIs – to get information or perform actions beyond the LLM's internal knowledge. To allow an LLM to use a tool, we need to provide it with a description (schema) of the tool, including its name, purpose, and expected arguments.\n",
    "\n",
    "Check the Mistral docs for function calling: https://docs.mistral.ai/capabilities/function_calling/\n",
    "\n",
    "![](images/03_func_call.png)\n",
    "\n",
    "First, let's define a simple Python function we want the LLM to be able to call. We add `@weave.op` to trace when this function actually gets executed.\n"
   ]
  },
  {
   "cell_type": "code",
   "execution_count": 7,
   "id": "2ede106b",
   "metadata": {},
   "outputs": [],
   "source": [
    "@weave.op \n",
    "def add_numbers(a: int, b: int) -> int:\n",
    "    \"\"\"Adds two numbers.\n",
    "    Args:\n",
    "        a: The first number.\n",
    "        b: The second number.\n",
    "    \"\"\"\n",
    "    return a + b"
   ]
  },
  {
   "cell_type": "code",
   "execution_count": 8,
   "id": "a691123a",
   "metadata": {},
   "outputs": [
    {
     "data": {
      "text/plain": [
       "3"
      ]
     },
     "execution_count": 8,
     "metadata": {},
     "output_type": "execute_result"
    }
   ],
   "source": [
    "add_numbers(1, 2)"
   ]
  },
  {
   "cell_type": "code",
   "execution_count": 9,
   "id": "ffcbfd9a",
   "metadata": {},
   "outputs": [
    {
     "ename": "ValidationError",
     "evalue": "2 validation errors for Unmarshaller\nbody.nullable[list[Tool]].0\n  Input should be a valid dictionary or instance of Tool [type=model_type, input_value=<function add_numbers at 0x1307d6ac0>, input_type=function]\n    For further information visit https://errors.pydantic.dev/2.11/v/model_type\nbody.Unset\n  Input should be a valid dictionary or instance of Unset [type=model_type, input_value=[<function add_numbers at 0x1307d6ac0>], input_type=list]\n    For further information visit https://errors.pydantic.dev/2.11/v/model_type",
     "output_type": "error",
     "traceback": [
      "\u001b[31m---------------------------------------------------------------------------\u001b[39m",
      "\u001b[31mValidationError\u001b[39m                           Traceback (most recent call last)",
      "\u001b[36mCell\u001b[39m\u001b[36m \u001b[39m\u001b[32mIn[9]\u001b[39m\u001b[32m, line 2\u001b[39m\n\u001b[32m      1\u001b[39m \u001b[38;5;66;03m# this doesn't work...\u001b[39;00m\n\u001b[32m----> \u001b[39m\u001b[32m2\u001b[39m \u001b[43mcall_model\u001b[49m\u001b[43m(\u001b[49m\u001b[43mmodel_name\u001b[49m\u001b[43m=\u001b[49m\u001b[43mMISTRAL_SMALL_MODEL\u001b[49m\u001b[43m,\u001b[49m\u001b[43m \u001b[49m\u001b[43mmessages\u001b[49m\u001b[43m=\u001b[49m\u001b[43mmessages\u001b[49m\u001b[43m,\u001b[49m\u001b[43m \u001b[49m\u001b[43mtools\u001b[49m\u001b[43m=\u001b[49m\u001b[43m[\u001b[49m\u001b[43madd_numbers\u001b[49m\u001b[43m]\u001b[49m\u001b[43m)\u001b[49m\n",
      "\u001b[36mFile \u001b[39m\u001b[32m~/work/phd_researcher/.venv/lib/python3.12/site-packages/weave/trace/op.py:670\u001b[39m, in \u001b[36mop.<locals>.op_deco.<locals>.create_wrapper.<locals>.wrapper\u001b[39m\u001b[34m(*args, **kwargs)\u001b[39m\n\u001b[32m    668\u001b[39m \u001b[38;5;129m@wraps\u001b[39m(func)\n\u001b[32m    669\u001b[39m \u001b[38;5;28;01mdef\u001b[39;00m\u001b[38;5;250m \u001b[39m\u001b[34mwrapper\u001b[39m(*args: Any, **kwargs: Any) -> Any:\n\u001b[32m--> \u001b[39m\u001b[32m670\u001b[39m     res, _ = \u001b[43m_call_sync_func\u001b[49m\u001b[43m(\u001b[49m\n\u001b[32m    671\u001b[39m \u001b[43m        \u001b[49m\u001b[43mcast\u001b[49m\u001b[43m(\u001b[49m\u001b[43mOp\u001b[49m\u001b[43m,\u001b[49m\u001b[43m \u001b[49m\u001b[43mwrapper\u001b[49m\u001b[43m)\u001b[49m\u001b[43m,\u001b[49m\u001b[43m \u001b[49m\u001b[43m*\u001b[49m\u001b[43margs\u001b[49m\u001b[43m,\u001b[49m\u001b[43m \u001b[49m\u001b[43m__should_raise\u001b[49m\u001b[43m=\u001b[49m\u001b[38;5;28;43;01mTrue\u001b[39;49;00m\u001b[43m,\u001b[49m\u001b[43m \u001b[49m\u001b[43m*\u001b[49m\u001b[43m*\u001b[49m\u001b[43mkwargs\u001b[49m\n\u001b[32m    672\u001b[39m \u001b[43m    \u001b[49m\u001b[43m)\u001b[49m\n\u001b[32m    673\u001b[39m     \u001b[38;5;28;01mreturn\u001b[39;00m res\n",
      "\u001b[36mFile \u001b[39m\u001b[32m~/work/phd_researcher/.venv/lib/python3.12/site-packages/weave/trace/op.py:412\u001b[39m, in \u001b[36m_call_sync_func\u001b[39m\u001b[34m(op, __weave, __should_raise, __require_explicit_finish, *args, **kwargs)\u001b[39m\n\u001b[32m    409\u001b[39m     \u001b[38;5;28;01mreturn\u001b[39;00m output\n\u001b[32m    411\u001b[39m \u001b[38;5;28;01mtry\u001b[39;00m:\n\u001b[32m--> \u001b[39m\u001b[32m412\u001b[39m     res = \u001b[43mfunc\u001b[49m\u001b[43m(\u001b[49m\u001b[43m*\u001b[49m\u001b[43margs\u001b[49m\u001b[43m,\u001b[49m\u001b[43m \u001b[49m\u001b[43m*\u001b[49m\u001b[43m*\u001b[49m\u001b[43mkwargs\u001b[49m\u001b[43m)\u001b[49m\n\u001b[32m    413\u001b[39m \u001b[38;5;28;01mexcept\u001b[39;00m \u001b[38;5;167;01mException\u001b[39;00m \u001b[38;5;28;01mas\u001b[39;00m e:\n\u001b[32m    414\u001b[39m     finish(exception=e)\n",
      "\u001b[36mCell\u001b[39m\u001b[36m \u001b[39m\u001b[32mIn[6]\u001b[39m\u001b[32m, line 7\u001b[39m, in \u001b[36mcall_model\u001b[39m\u001b[34m(model_name, messages, **kwargs)\u001b[39m\n\u001b[32m      4\u001b[39m \u001b[38;5;129m@weave\u001b[39m.op\n\u001b[32m      5\u001b[39m \u001b[38;5;28;01mdef\u001b[39;00m\u001b[38;5;250m \u001b[39m\u001b[34mcall_model\u001b[39m(model_name: \u001b[38;5;28mstr\u001b[39m, messages: List[Dict[\u001b[38;5;28mstr\u001b[39m, Any]], **kwargs) -> \u001b[38;5;28mstr\u001b[39m:\n\u001b[32m      6\u001b[39m     \u001b[33m\"\u001b[39m\u001b[33mCall a model with the given messages and kwargs.\u001b[39m\u001b[33m\"\u001b[39m\n\u001b[32m----> \u001b[39m\u001b[32m7\u001b[39m     response = \u001b[43mclient\u001b[49m\u001b[43m.\u001b[49m\u001b[43mchat\u001b[49m\u001b[43m.\u001b[49m\u001b[43mcomplete\u001b[49m\u001b[43m(\u001b[49m\n\u001b[32m      8\u001b[39m \u001b[43m        \u001b[49m\u001b[43mmodel\u001b[49m\u001b[43m=\u001b[49m\u001b[43mmodel_name\u001b[49m\u001b[43m,\u001b[49m\n\u001b[32m      9\u001b[39m \u001b[43m        \u001b[49m\u001b[43mmessages\u001b[49m\u001b[43m=\u001b[49m\u001b[43mmessages\u001b[49m\u001b[43m,\u001b[49m\n\u001b[32m     10\u001b[39m \u001b[43m        \u001b[49m\u001b[43m*\u001b[49m\u001b[43m*\u001b[49m\u001b[43mkwargs\u001b[49m\n\u001b[32m     11\u001b[39m \u001b[43m    \u001b[49m\u001b[43m)\u001b[49m\n\u001b[32m     13\u001b[39m     \u001b[38;5;28;01mreturn\u001b[39;00m response.choices[\u001b[32m0\u001b[39m].message\n",
      "\u001b[36mFile \u001b[39m\u001b[32m~/work/phd_researcher/.venv/lib/python3.12/site-packages/weave/trace/op.py:670\u001b[39m, in \u001b[36mop.<locals>.op_deco.<locals>.create_wrapper.<locals>.wrapper\u001b[39m\u001b[34m(*args, **kwargs)\u001b[39m\n\u001b[32m    668\u001b[39m \u001b[38;5;129m@wraps\u001b[39m(func)\n\u001b[32m    669\u001b[39m \u001b[38;5;28;01mdef\u001b[39;00m\u001b[38;5;250m \u001b[39m\u001b[34mwrapper\u001b[39m(*args: Any, **kwargs: Any) -> Any:\n\u001b[32m--> \u001b[39m\u001b[32m670\u001b[39m     res, _ = \u001b[43m_call_sync_func\u001b[49m\u001b[43m(\u001b[49m\n\u001b[32m    671\u001b[39m \u001b[43m        \u001b[49m\u001b[43mcast\u001b[49m\u001b[43m(\u001b[49m\u001b[43mOp\u001b[49m\u001b[43m,\u001b[49m\u001b[43m \u001b[49m\u001b[43mwrapper\u001b[49m\u001b[43m)\u001b[49m\u001b[43m,\u001b[49m\u001b[43m \u001b[49m\u001b[43m*\u001b[49m\u001b[43margs\u001b[49m\u001b[43m,\u001b[49m\u001b[43m \u001b[49m\u001b[43m__should_raise\u001b[49m\u001b[43m=\u001b[49m\u001b[38;5;28;43;01mTrue\u001b[39;49;00m\u001b[43m,\u001b[49m\u001b[43m \u001b[49m\u001b[43m*\u001b[49m\u001b[43m*\u001b[49m\u001b[43mkwargs\u001b[49m\n\u001b[32m    672\u001b[39m \u001b[43m    \u001b[49m\u001b[43m)\u001b[49m\n\u001b[32m    673\u001b[39m     \u001b[38;5;28;01mreturn\u001b[39;00m res\n",
      "\u001b[36mFile \u001b[39m\u001b[32m~/work/phd_researcher/.venv/lib/python3.12/site-packages/weave/trace/op.py:412\u001b[39m, in \u001b[36m_call_sync_func\u001b[39m\u001b[34m(op, __weave, __should_raise, __require_explicit_finish, *args, **kwargs)\u001b[39m\n\u001b[32m    409\u001b[39m     \u001b[38;5;28;01mreturn\u001b[39;00m output\n\u001b[32m    411\u001b[39m \u001b[38;5;28;01mtry\u001b[39;00m:\n\u001b[32m--> \u001b[39m\u001b[32m412\u001b[39m     res = \u001b[43mfunc\u001b[49m\u001b[43m(\u001b[49m\u001b[43m*\u001b[49m\u001b[43margs\u001b[49m\u001b[43m,\u001b[49m\u001b[43m \u001b[49m\u001b[43m*\u001b[49m\u001b[43m*\u001b[49m\u001b[43mkwargs\u001b[49m\u001b[43m)\u001b[49m\n\u001b[32m    413\u001b[39m \u001b[38;5;28;01mexcept\u001b[39;00m \u001b[38;5;167;01mException\u001b[39;00m \u001b[38;5;28;01mas\u001b[39;00m e:\n\u001b[32m    414\u001b[39m     finish(exception=e)\n",
      "\u001b[36mFile \u001b[39m\u001b[32m~/work/phd_researcher/.venv/lib/python3.12/site-packages/mistralai/chat.py:178\u001b[39m, in \u001b[36mChat.complete\u001b[39m\u001b[34m(self, model, messages, temperature, top_p, max_tokens, stream, stop, random_seed, response_format, tools, tool_choice, presence_penalty, frequency_penalty, n, prediction, parallel_tool_calls, safe_prompt, retries, server_url, timeout_ms, http_headers)\u001b[39m\n\u001b[32m    163\u001b[39m \u001b[38;5;28;01melse\u001b[39;00m:\n\u001b[32m    164\u001b[39m     base_url = \u001b[38;5;28mself\u001b[39m._get_url(base_url, url_variables)\n\u001b[32m    166\u001b[39m request = models.ChatCompletionRequest(\n\u001b[32m    167\u001b[39m     model=model,\n\u001b[32m    168\u001b[39m     temperature=temperature,\n\u001b[32m    169\u001b[39m     top_p=top_p,\n\u001b[32m    170\u001b[39m     max_tokens=max_tokens,\n\u001b[32m    171\u001b[39m     stream=stream,\n\u001b[32m    172\u001b[39m     stop=stop,\n\u001b[32m    173\u001b[39m     random_seed=random_seed,\n\u001b[32m    174\u001b[39m     messages=utils.get_pydantic_model(messages, List[models.Messages]),\n\u001b[32m    175\u001b[39m     response_format=utils.get_pydantic_model(\n\u001b[32m    176\u001b[39m         response_format, Optional[models.ResponseFormat]\n\u001b[32m    177\u001b[39m     ),\n\u001b[32m--> \u001b[39m\u001b[32m178\u001b[39m     tools=\u001b[43mutils\u001b[49m\u001b[43m.\u001b[49m\u001b[43mget_pydantic_model\u001b[49m\u001b[43m(\u001b[49m\u001b[43mtools\u001b[49m\u001b[43m,\u001b[49m\u001b[43m \u001b[49m\u001b[43mOptionalNullable\u001b[49m\u001b[43m[\u001b[49m\u001b[43mList\u001b[49m\u001b[43m[\u001b[49m\u001b[43mmodels\u001b[49m\u001b[43m.\u001b[49m\u001b[43mTool\u001b[49m\u001b[43m]\u001b[49m\u001b[43m]\u001b[49m\u001b[43m)\u001b[49m,\n\u001b[32m    179\u001b[39m     tool_choice=utils.get_pydantic_model(\n\u001b[32m    180\u001b[39m         tool_choice, Optional[models.ChatCompletionRequestToolChoice]\n\u001b[32m    181\u001b[39m     ),\n\u001b[32m    182\u001b[39m     presence_penalty=presence_penalty,\n\u001b[32m    183\u001b[39m     frequency_penalty=frequency_penalty,\n\u001b[32m    184\u001b[39m     n=n,\n\u001b[32m    185\u001b[39m     prediction=utils.get_pydantic_model(\n\u001b[32m    186\u001b[39m         prediction, Optional[models.Prediction]\n\u001b[32m    187\u001b[39m     ),\n\u001b[32m    188\u001b[39m     parallel_tool_calls=parallel_tool_calls,\n\u001b[32m    189\u001b[39m     safe_prompt=safe_prompt,\n\u001b[32m    190\u001b[39m )\n\u001b[32m    192\u001b[39m req = \u001b[38;5;28mself\u001b[39m._build_request(\n\u001b[32m    193\u001b[39m     method=\u001b[33m\"\u001b[39m\u001b[33mPOST\u001b[39m\u001b[33m\"\u001b[39m,\n\u001b[32m    194\u001b[39m     path=\u001b[33m\"\u001b[39m\u001b[33m/v1/chat/completions\u001b[39m\u001b[33m\"\u001b[39m,\n\u001b[32m   (...)\u001b[39m\u001b[32m    208\u001b[39m     timeout_ms=timeout_ms,\n\u001b[32m    209\u001b[39m )\n\u001b[32m    211\u001b[39m \u001b[38;5;28;01mif\u001b[39;00m retries == UNSET:\n",
      "\u001b[36mFile \u001b[39m\u001b[32m~/work/phd_researcher/.venv/lib/python3.12/site-packages/mistralai/utils/serializers.py:206\u001b[39m, in \u001b[36mget_pydantic_model\u001b[39m\u001b[34m(data, typ)\u001b[39m\n\u001b[32m    204\u001b[39m \u001b[38;5;28;01mdef\u001b[39;00m\u001b[38;5;250m \u001b[39m\u001b[34mget_pydantic_model\u001b[39m(data: Any, typ: Any) -> Any:\n\u001b[32m    205\u001b[39m     \u001b[38;5;28;01mif\u001b[39;00m \u001b[38;5;129;01mnot\u001b[39;00m _contains_pydantic_model(data):\n\u001b[32m--> \u001b[39m\u001b[32m206\u001b[39m         \u001b[38;5;28;01mreturn\u001b[39;00m \u001b[43munmarshal\u001b[49m\u001b[43m(\u001b[49m\u001b[43mdata\u001b[49m\u001b[43m,\u001b[49m\u001b[43m \u001b[49m\u001b[43mtyp\u001b[49m\u001b[43m)\u001b[49m\n\u001b[32m    208\u001b[39m     \u001b[38;5;28;01mreturn\u001b[39;00m data\n",
      "\u001b[36mFile \u001b[39m\u001b[32m~/work/phd_researcher/.venv/lib/python3.12/site-packages/mistralai/utils/serializers.py:147\u001b[39m, in \u001b[36munmarshal\u001b[39m\u001b[34m(val, typ)\u001b[39m\n\u001b[32m    140\u001b[39m \u001b[38;5;28;01mdef\u001b[39;00m\u001b[38;5;250m \u001b[39m\u001b[34munmarshal\u001b[39m(val, typ: Any) -> Any:\n\u001b[32m    141\u001b[39m     unmarshaller = create_model(\n\u001b[32m    142\u001b[39m         \u001b[33m\"\u001b[39m\u001b[33mUnmarshaller\u001b[39m\u001b[33m\"\u001b[39m,\n\u001b[32m    143\u001b[39m         body=(typ, ...),\n\u001b[32m    144\u001b[39m         __config__=ConfigDict(populate_by_name=\u001b[38;5;28;01mTrue\u001b[39;00m, arbitrary_types_allowed=\u001b[38;5;28;01mTrue\u001b[39;00m),\n\u001b[32m    145\u001b[39m     )\n\u001b[32m--> \u001b[39m\u001b[32m147\u001b[39m     m = \u001b[43munmarshaller\u001b[49m\u001b[43m(\u001b[49m\u001b[43mbody\u001b[49m\u001b[43m=\u001b[49m\u001b[43mval\u001b[49m\u001b[43m)\u001b[49m\n\u001b[32m    149\u001b[39m     \u001b[38;5;66;03m# pyright: ignore[reportAttributeAccessIssue]\u001b[39;00m\n\u001b[32m    150\u001b[39m     \u001b[38;5;28;01mreturn\u001b[39;00m m.body\n",
      "\u001b[36mFile \u001b[39m\u001b[32m~/work/phd_researcher/.venv/lib/python3.12/site-packages/pydantic/main.py:253\u001b[39m, in \u001b[36mBaseModel.__init__\u001b[39m\u001b[34m(self, **data)\u001b[39m\n\u001b[32m    251\u001b[39m \u001b[38;5;66;03m# `__tracebackhide__` tells pytest and some other tools to omit this function from tracebacks\u001b[39;00m\n\u001b[32m    252\u001b[39m __tracebackhide__ = \u001b[38;5;28;01mTrue\u001b[39;00m\n\u001b[32m--> \u001b[39m\u001b[32m253\u001b[39m validated_self = \u001b[38;5;28;43mself\u001b[39;49m\u001b[43m.\u001b[49m\u001b[43m__pydantic_validator__\u001b[49m\u001b[43m.\u001b[49m\u001b[43mvalidate_python\u001b[49m\u001b[43m(\u001b[49m\u001b[43mdata\u001b[49m\u001b[43m,\u001b[49m\u001b[43m \u001b[49m\u001b[43mself_instance\u001b[49m\u001b[43m=\u001b[49m\u001b[38;5;28;43mself\u001b[39;49m\u001b[43m)\u001b[49m\n\u001b[32m    254\u001b[39m \u001b[38;5;28;01mif\u001b[39;00m \u001b[38;5;28mself\u001b[39m \u001b[38;5;129;01mis\u001b[39;00m \u001b[38;5;129;01mnot\u001b[39;00m validated_self:\n\u001b[32m    255\u001b[39m     warnings.warn(\n\u001b[32m    256\u001b[39m         \u001b[33m'\u001b[39m\u001b[33mA custom validator is returning a value other than `self`.\u001b[39m\u001b[38;5;130;01m\\n\u001b[39;00m\u001b[33m'\u001b[39m\n\u001b[32m    257\u001b[39m         \u001b[33m\"\u001b[39m\u001b[33mReturning anything other than `self` from a top level model validator isn\u001b[39m\u001b[33m'\u001b[39m\u001b[33mt supported when validating via `__init__`.\u001b[39m\u001b[38;5;130;01m\\n\u001b[39;00m\u001b[33m\"\u001b[39m\n\u001b[32m    258\u001b[39m         \u001b[33m'\u001b[39m\u001b[33mSee the `model_validator` docs (https://docs.pydantic.dev/latest/concepts/validators/#model-validators) for more details.\u001b[39m\u001b[33m'\u001b[39m,\n\u001b[32m    259\u001b[39m         stacklevel=\u001b[32m2\u001b[39m,\n\u001b[32m    260\u001b[39m     )\n",
      "\u001b[31mValidationError\u001b[39m: 2 validation errors for Unmarshaller\nbody.nullable[list[Tool]].0\n  Input should be a valid dictionary or instance of Tool [type=model_type, input_value=<function add_numbers at 0x1307d6ac0>, input_type=function]\n    For further information visit https://errors.pydantic.dev/2.11/v/model_type\nbody.Unset\n  Input should be a valid dictionary or instance of Unset [type=model_type, input_value=[<function add_numbers at 0x1307d6ac0>], input_type=list]\n    For further information visit https://errors.pydantic.dev/2.11/v/model_type"
     ]
    }
   ],
   "source": [
    "# this doesn't work...\n",
    "call_model(model_name=MISTRAL_SMALL_MODEL, messages=messages, tools=[add_numbers])"
   ]
  },
  {
   "cell_type": "markdown",
   "id": "b082a58a",
   "metadata": {},
   "source": [
    "> We need to manually create the JSON schema describing this tool in a format that models *Mistral* understand."
   ]
  },
  {
   "cell_type": "code",
   "execution_count": 10,
   "id": "190a9063",
   "metadata": {},
   "outputs": [],
   "source": [
    "# Manually define the tool schema\n",
    "tool_add_numbers_schema = {\n",
    "    \"type\": \"function\",\n",
    "    \"function\": {\n",
    "        \"name\": \"add_numbers\",\n",
    "        \"description\": \"Adds two numbers.\",\n",
    "        \"parameters\": {\n",
    "            \"type\": \"object\",\n",
    "            \"properties\": {\n",
    "                \"a\": {\n",
    "                    \"type\": \"integer\",\n",
    "                    \"description\": \"The first number.\"\n",
    "                },\n",
    "                \"b\": {\n",
    "                    \"type\": \"integer\",\n",
    "                    \"description\": \"The second number.\"\n",
    "                }\n",
    "            },\n",
    "            \"required\": [\"a\", \"b\"]\n",
    "        }\n",
    "    }\n",
    "}"
   ]
  },
  {
   "cell_type": "markdown",
   "id": "f8b6dfd4",
   "metadata": {},
   "source": [
    "Now, we make an LLM call, passing the `tools` parameter with our schema. We ask a question that should trigger the tool."
   ]
  },
  {
   "cell_type": "code",
   "execution_count": 11,
   "id": "0e7d2900",
   "metadata": {},
   "outputs": [
    {
     "name": "stdout",
     "output_type": "stream",
     "text": [
      "🍩 https://wandb.ai/capecape/paris-woprkshop-2025/r/call/0196b435-3c31-7c70-b110-c1fec92012b0\n"
     ]
    },
    {
     "data": {
      "text/html": [
       "<pre style=\"white-space:pre;overflow-x:auto;line-height:normal;font-family:Menlo,'DejaVu Sans Mono',consolas,'Courier New',monospace\"><span style=\"color: #800080; text-decoration-color: #800080; font-weight: bold\">AssistantMessage</span><span style=\"font-weight: bold\">(</span>\n",
       "<span style=\"color: #7fbf7f; text-decoration-color: #7fbf7f\">│   </span><span style=\"color: #808000; text-decoration-color: #808000\">content</span>=<span style=\"color: #008000; text-decoration-color: #008000\">''</span>,\n",
       "<span style=\"color: #7fbf7f; text-decoration-color: #7fbf7f\">│   </span><span style=\"color: #808000; text-decoration-color: #808000\">tool_calls</span>=<span style=\"font-weight: bold\">[</span>\n",
       "<span style=\"color: #7fbf7f; text-decoration-color: #7fbf7f\">│   │   </span><span style=\"color: #800080; text-decoration-color: #800080; font-weight: bold\">ToolCall</span><span style=\"font-weight: bold\">(</span>\n",
       "<span style=\"color: #7fbf7f; text-decoration-color: #7fbf7f\">│   │   │   </span><span style=\"color: #808000; text-decoration-color: #808000\">function</span>=<span style=\"color: #800080; text-decoration-color: #800080; font-weight: bold\">FunctionCall</span><span style=\"font-weight: bold\">(</span><span style=\"color: #808000; text-decoration-color: #808000\">name</span>=<span style=\"color: #008000; text-decoration-color: #008000\">'add_numbers'</span>, <span style=\"color: #808000; text-decoration-color: #808000\">arguments</span>=<span style=\"color: #008000; text-decoration-color: #008000\">'{\"a\": 77, \"b\": 11}'</span><span style=\"font-weight: bold\">)</span>,\n",
       "<span style=\"color: #7fbf7f; text-decoration-color: #7fbf7f\">│   │   │   </span><span style=\"color: #808000; text-decoration-color: #808000\">id</span>=<span style=\"color: #008000; text-decoration-color: #008000\">'kZv6pUpOz'</span>,\n",
       "<span style=\"color: #7fbf7f; text-decoration-color: #7fbf7f\">│   │   │   </span><span style=\"color: #808000; text-decoration-color: #808000\">type</span>=<span style=\"color: #800080; text-decoration-color: #800080; font-style: italic\">None</span>,\n",
       "<span style=\"color: #7fbf7f; text-decoration-color: #7fbf7f\">│   │   │   </span><span style=\"color: #808000; text-decoration-color: #808000\">index</span>=<span style=\"color: #008080; text-decoration-color: #008080; font-weight: bold\">0</span>\n",
       "<span style=\"color: #7fbf7f; text-decoration-color: #7fbf7f\">│   │   </span><span style=\"font-weight: bold\">)</span>\n",
       "<span style=\"color: #7fbf7f; text-decoration-color: #7fbf7f\">│   </span><span style=\"font-weight: bold\">]</span>,\n",
       "<span style=\"color: #7fbf7f; text-decoration-color: #7fbf7f\">│   </span><span style=\"color: #808000; text-decoration-color: #808000\">prefix</span>=<span style=\"color: #ff0000; text-decoration-color: #ff0000; font-style: italic\">False</span>,\n",
       "<span style=\"color: #7fbf7f; text-decoration-color: #7fbf7f\">│   </span><span style=\"color: #808000; text-decoration-color: #808000\">role</span>=<span style=\"color: #008000; text-decoration-color: #008000\">'assistant'</span>\n",
       "<span style=\"font-weight: bold\">)</span>\n",
       "</pre>\n"
      ],
      "text/plain": [
       "\u001b[1;35mAssistantMessage\u001b[0m\u001b[1m(\u001b[0m\n",
       "\u001b[2;32m│   \u001b[0m\u001b[33mcontent\u001b[0m=\u001b[32m''\u001b[0m,\n",
       "\u001b[2;32m│   \u001b[0m\u001b[33mtool_calls\u001b[0m=\u001b[1m[\u001b[0m\n",
       "\u001b[2;32m│   │   \u001b[0m\u001b[1;35mToolCall\u001b[0m\u001b[1m(\u001b[0m\n",
       "\u001b[2;32m│   │   │   \u001b[0m\u001b[33mfunction\u001b[0m=\u001b[1;35mFunctionCall\u001b[0m\u001b[1m(\u001b[0m\u001b[33mname\u001b[0m=\u001b[32m'add_numbers'\u001b[0m, \u001b[33marguments\u001b[0m=\u001b[32m'\u001b[0m\u001b[32m{\u001b[0m\u001b[32m\"a\": 77, \"b\": 11\u001b[0m\u001b[32m}\u001b[0m\u001b[32m'\u001b[0m\u001b[1m)\u001b[0m,\n",
       "\u001b[2;32m│   │   │   \u001b[0m\u001b[33mid\u001b[0m=\u001b[32m'kZv6pUpOz'\u001b[0m,\n",
       "\u001b[2;32m│   │   │   \u001b[0m\u001b[33mtype\u001b[0m=\u001b[3;35mNone\u001b[0m,\n",
       "\u001b[2;32m│   │   │   \u001b[0m\u001b[33mindex\u001b[0m=\u001b[1;36m0\u001b[0m\n",
       "\u001b[2;32m│   │   \u001b[0m\u001b[1m)\u001b[0m\n",
       "\u001b[2;32m│   \u001b[0m\u001b[1m]\u001b[0m,\n",
       "\u001b[2;32m│   \u001b[0m\u001b[33mprefix\u001b[0m=\u001b[3;91mFalse\u001b[0m,\n",
       "\u001b[2;32m│   \u001b[0m\u001b[33mrole\u001b[0m=\u001b[32m'assistant'\u001b[0m\n",
       "\u001b[1m)\u001b[0m\n"
      ]
     },
     "metadata": {},
     "output_type": "display_data"
    }
   ],
   "source": [
    "messages = [\n",
    "    {\"role\": \"system\", \"content\": \"You are a helpful assistant that can use tools to answer questions.\"},\n",
    "    {\"role\": \"user\", \"content\": \"My lucky numbers are 77 and 11. What is their sum?\"}]\n",
    "response = call_model(model_name=MISTRAL_SMALL_MODEL, messages=messages, tools=[tool_add_numbers_schema])\n",
    "pprint(response)"
   ]
  },
  {
   "cell_type": "markdown",
   "id": "092fdded",
   "metadata": {},
   "source": [
    "## Manual Tool Call\n",
    "The LLM's response might contain a request to call our tool (`response.choices[0].message.tool_calls`) or it might respond directly (`response.choices[0].message.content`). If it requests a tool call, we need to:\n",
    "\n",
    "1. Parse the arguments it provides.\n",
    "2. Execute our actual Python function (`add_numbers`) with those arguments.\n",
    "3. (In a real agent loop) Send the result back to the LLM in a new message with `role=\"tool\"`."
   ]
  },
  {
   "cell_type": "markdown",
   "id": "10f1ea6c",
   "metadata": {},
   "source": [
    "Let's manually call the tools in the response."
   ]
  },
  {
   "cell_type": "code",
   "execution_count": 12,
   "id": "b8e64e83",
   "metadata": {},
   "outputs": [
    {
     "name": "stdout",
     "output_type": "stream",
     "text": [
      "LLM requested a tool call:\n",
      "  - Tool: add_numbers, Args: {\"a\": 77, \"b\": 11}\n",
      "🍩 https://wandb.ai/capecape/paris-woprkshop-2025/r/call/0196b435-6813-7c83-9de1-65830a4b7f3e\n",
      "88\n"
     ]
    },
    {
     "name": "stdout",
     "output_type": "stream",
     "text": [
      "🍩 https://wandb.ai/capecape/paris-woprkshop-2025/r/call/0196b437-59ea-7550-96a6-c22503443eb7\n",
      "🍩 https://wandb.ai/capecape/paris-woprkshop-2025/r/call/0196b44a-1824-7411-897d-dbb26333bf40\n",
      "🍩 https://wandb.ai/capecape/paris-woprkshop-2025/r/call/0196b44b-7b9f-7802-9ae9-f40b20b50313\n",
      "🍩 https://wandb.ai/capecape/paris-woprkshop-2025/r/call/0196b44d-c9d7-7e91-aeb2-91154dabffb6\n",
      "🍩 https://wandb.ai/capecape/paris-woprkshop-2025/r/call/0196b485-893c-7290-89ab-01364f287d12\n",
      "🍩 https://wandb.ai/capecape/paris-woprkshop-2025/r/call/0196b48e-e221-7852-abb7-b81024bcae2f\n",
      "🍩 https://wandb.ai/capecape/paris-woprkshop-2025/r/call/0196b492-1a1f-7971-b310-8b66365ace5f\n"
     ]
    }
   ],
   "source": [
    "if response.tool_calls:\n",
    "    print(\"LLM requested a tool call:\")\n",
    "    for tool_call in response.tool_calls:\n",
    "        function_name = tool_call.function.name\n",
    "        function_args_str = tool_call.function.arguments\n",
    "        function_args = json.loads(function_args_str)\n",
    "        print(f\"  - Tool: {function_name}, Args: {function_args_str}\")\n",
    "        if function_name == \"add_numbers\":\n",
    "            tool_result_content = add_numbers(**function_args)\n",
    "\n",
    "print(tool_result_content)"
   ]
  },
  {
   "cell_type": "markdown",
   "id": "e8f38a9f",
   "metadata": {},
   "source": [
    "We need to add the tool call result to the messages (there is actually 2 messages to add)\n",
    "- the response from the assistant that decided to call the tool\n",
    "- the tool output"
   ]
  },
  {
   "cell_type": "code",
   "execution_count": 13,
   "id": "dd2ca3b8",
   "metadata": {},
   "outputs": [],
   "source": [
    "messages.append(response.model_dump())"
   ]
  },
  {
   "cell_type": "code",
   "execution_count": 14,
   "id": "d13d8f5a",
   "metadata": {},
   "outputs": [],
   "source": [
    "messages.append({\n",
    "    \"tool_call_id\": tool_call.id,\n",
    "    \"role\": \"tool\",\n",
    "    \"name\": function_name,\n",
    "    \"content\": str(tool_result_content)\n",
    "})"
   ]
  },
  {
   "cell_type": "code",
   "execution_count": 15,
   "id": "a0992e3a",
   "metadata": {},
   "outputs": [
    {
     "data": {
      "text/plain": [
       "[{'role': 'system',\n",
       "  'content': 'You are a helpful assistant that can use tools to answer questions.'},\n",
       " {'role': 'user',\n",
       "  'content': 'My lucky numbers are 77 and 11. What is their sum?'},\n",
       " {'content': '',\n",
       "  'tool_calls': [{'function': {'name': 'add_numbers',\n",
       "     'arguments': '{\"a\": 77, \"b\": 11}'},\n",
       "    'id': 'kZv6pUpOz',\n",
       "    'type': None,\n",
       "    'index': 0}],\n",
       "  'prefix': False,\n",
       "  'role': 'assistant'},\n",
       " {'tool_call_id': 'kZv6pUpOz',\n",
       "  'role': 'tool',\n",
       "  'name': 'add_numbers',\n",
       "  'content': '88'}]"
      ]
     },
     "execution_count": 15,
     "metadata": {},
     "output_type": "execute_result"
    }
   ],
   "source": [
    "messages"
   ]
  },
  {
   "cell_type": "markdown",
   "id": "f98c76bf",
   "metadata": {},
   "source": [
    "You should have a sequence of messages like this:\n"
   ]
  },
  {
   "cell_type": "code",
   "execution_count": 18,
   "id": "a5621c18",
   "metadata": {},
   "outputs": [
    {
     "data": {
      "text/plain": [
       "['system', 'user', 'assistant', 'tool']"
      ]
     },
     "execution_count": 18,
     "metadata": {},
     "output_type": "execute_result"
    }
   ],
   "source": [
    "[m[\"role\"] for m in messages]"
   ]
  },
  {
   "cell_type": "markdown",
   "id": "50a4b05f",
   "metadata": {},
   "source": [
    "Now call the model again with the new messages and it will use the tool call result to answer the question"
   ]
  },
  {
   "cell_type": "code",
   "execution_count": 19,
   "id": "fbf845aa",
   "metadata": {},
   "outputs": [
    {
     "name": "stdout",
     "output_type": "stream",
     "text": [
      "🍩 https://wandb.ai/capecape/paris-woprkshop-2025/r/call/0196b436-5c07-7960-92c7-c2095c3dd573\n",
      "The sum of 77 and 11 is 88.\n"
     ]
    }
   ],
   "source": [
    "final_response = call_model(model_name=MISTRAL_SMALL_MODEL, messages=messages)\n",
    "print(final_response.content)"
   ]
  },
  {
   "cell_type": "markdown",
   "id": "0e01abc5",
   "metadata": {},
   "source": [
    "## 3. Simplifying Tool Definition with a Processor Function\n",
    "\n",
    "Manually writing JSON schemas is tedious and error-prone. We can automate this by inspecting our Python function's signature, type hints, and docstring.\n",
    "\n",
    "First, let's define a helper function (`generate_tool_schema`) that takes a Python function and generates the schema.\n"
   ]
  },
  {
   "cell_type": "code",
   "execution_count": 20,
   "id": "61ab93b4",
   "metadata": {},
   "outputs": [],
   "source": [
    "def generate_tool_schema(func: Callable) -> dict:\n",
    "    \"\"\"Given a Python function, generate a tool-compatible JSON schema.\n",
    "    Handles basic types and Enums. Assumes docstrings are formatted for arg descriptions.\n",
    "    \"\"\"\n",
    "    signature = inspect.signature(func)\n",
    "    parameters = signature.parameters\n",
    "    type_hints = get_type_hints(func)\n",
    "\n",
    "    schema = {\n",
    "        \"type\": \"function\",\n",
    "        \"function\": {\n",
    "            \"name\": func.__name__,\n",
    "            \"description\": inspect.getdoc(func).split(\"\\\\n\")[0] if inspect.getdoc(func) else \"\",\n",
    "            \"parameters\": {\n",
    "                \"type\": \"object\",\n",
    "                \"properties\": {},\n",
    "                \"required\": [],\n",
    "            },\n",
    "        },\n",
    "    }\n",
    "\n",
    "    docstring = inspect.getdoc(func)\n",
    "    param_descriptions = {}\n",
    "    if docstring:\n",
    "        args_section = False\n",
    "        current_param = None\n",
    "        for line in docstring.split('\\\\n'):\n",
    "            line_stripped = line.strip()\n",
    "            if line_stripped.lower().startswith((\"args:\", \"arguments:\", \"parameters:\")):\n",
    "                args_section = True\n",
    "                continue\n",
    "            if args_section:\n",
    "                if \":\" in line_stripped:\n",
    "                    param_name, desc = line_stripped.split(\":\", 1)\n",
    "                    param_descriptions[param_name.strip()] = desc.strip()\n",
    "                elif line_stripped and not line_stripped.startswith(\" \"): # Heuristic: end of args section\n",
    "                     args_section = False\n",
    "\n",
    "    for name, param in parameters.items():\n",
    "        is_required = param.default == inspect.Parameter.empty\n",
    "        param_type = type_hints.get(name, Any)\n",
    "        json_type = \"string\"\n",
    "        param_schema = {}\n",
    "\n",
    "        # Basic type mapping\n",
    "        if param_type == str: json_type = \"string\"\n",
    "        elif param_type == int: json_type = \"integer\"\n",
    "        elif param_type == float: json_type = \"number\"\n",
    "        elif param_type == bool: json_type = \"boolean\"\n",
    "        elif hasattr(param_type, '__origin__') and param_type.__origin__ is list: # Handle List[type]\n",
    "             item_type = param_type.__args__[0] if param_type.__args__ else Any\n",
    "             if item_type == str: param_schema = {\"type\": \"array\", \"items\": {\"type\": \"string\"}}\n",
    "             elif item_type == int: param_schema = {\"type\": \"array\", \"items\": {\"type\": \"integer\"}}\n",
    "             # Add more list item types if needed\n",
    "             else: param_schema = {\"type\": \"array\", \"items\": {\"type\": \"string\"}} # Default list item type\n",
    "        elif hasattr(param_type, \"__members__\") and issubclass(param_type, Enum): # Handle Enum\n",
    "             json_type = \"string\"\n",
    "             param_schema[\"enum\"] = [e.value for e in param_type]\n",
    "\n",
    "        if not param_schema: # If not set by List or Enum\n",
    "            param_schema[\"type\"] = json_type\n",
    "\n",
    "        param_schema[\"description\"] = param_descriptions.get(name, \"\")\n",
    "\n",
    "        if param.default != inspect.Parameter.empty and param.default is not None:\n",
    "             param_schema[\"default\"] = param.default # Note: OpenAI schema doesn't officially use default, but useful metadata\n",
    "\n",
    "        schema[\"function\"][\"parameters\"][\"properties\"][name] = param_schema\n",
    "        if is_required:\n",
    "            schema[\"function\"][\"parameters\"][\"required\"].append(name)\n",
    "    return schema"
   ]
  },
  {
   "cell_type": "markdown",
   "id": "8d193839",
   "metadata": {},
   "source": [
    "Now we can use this function to automatically generate the schema for our tool."
   ]
  },
  {
   "cell_type": "code",
   "execution_count": 21,
   "id": "187d550c",
   "metadata": {},
   "outputs": [
    {
     "data": {
      "text/html": [
       "<pre style=\"white-space:pre;overflow-x:auto;line-height:normal;font-family:Menlo,'DejaVu Sans Mono',consolas,'Courier New',monospace\"><span style=\"font-weight: bold\">{</span>\n",
       "<span style=\"color: #7fbf7f; text-decoration-color: #7fbf7f\">│   </span><span style=\"color: #008000; text-decoration-color: #008000\">'type'</span>: <span style=\"color: #008000; text-decoration-color: #008000\">'function'</span>,\n",
       "<span style=\"color: #7fbf7f; text-decoration-color: #7fbf7f\">│   </span><span style=\"color: #008000; text-decoration-color: #008000\">'function'</span>: <span style=\"font-weight: bold\">{</span>\n",
       "<span style=\"color: #7fbf7f; text-decoration-color: #7fbf7f\">│   │   </span><span style=\"color: #008000; text-decoration-color: #008000\">'name'</span>: <span style=\"color: #008000; text-decoration-color: #008000\">'add_numbers'</span>,\n",
       "<span style=\"color: #7fbf7f; text-decoration-color: #7fbf7f\">│   │   </span><span style=\"color: #008000; text-decoration-color: #008000\">'description'</span>: <span style=\"color: #008000; text-decoration-color: #008000\">'Adds two numbers.\\nArgs:\\n    a: The first number.\\n    b: The second number.'</span>,\n",
       "<span style=\"color: #7fbf7f; text-decoration-color: #7fbf7f\">│   │   </span><span style=\"color: #008000; text-decoration-color: #008000\">'parameters'</span>: <span style=\"font-weight: bold\">{</span>\n",
       "<span style=\"color: #7fbf7f; text-decoration-color: #7fbf7f\">│   │   │   </span><span style=\"color: #008000; text-decoration-color: #008000\">'type'</span>: <span style=\"color: #008000; text-decoration-color: #008000\">'object'</span>,\n",
       "<span style=\"color: #7fbf7f; text-decoration-color: #7fbf7f\">│   │   │   </span><span style=\"color: #008000; text-decoration-color: #008000\">'properties'</span>: <span style=\"font-weight: bold\">{</span>\n",
       "<span style=\"color: #7fbf7f; text-decoration-color: #7fbf7f\">│   │   │   │   </span><span style=\"color: #008000; text-decoration-color: #008000\">'a'</span>: <span style=\"font-weight: bold\">{</span><span style=\"color: #008000; text-decoration-color: #008000\">'type'</span>: <span style=\"color: #008000; text-decoration-color: #008000\">'integer'</span>, <span style=\"color: #008000; text-decoration-color: #008000\">'description'</span>: <span style=\"color: #008000; text-decoration-color: #008000\">''</span><span style=\"font-weight: bold\">}</span>,\n",
       "<span style=\"color: #7fbf7f; text-decoration-color: #7fbf7f\">│   │   │   │   </span><span style=\"color: #008000; text-decoration-color: #008000\">'b'</span>: <span style=\"font-weight: bold\">{</span><span style=\"color: #008000; text-decoration-color: #008000\">'type'</span>: <span style=\"color: #008000; text-decoration-color: #008000\">'integer'</span>, <span style=\"color: #008000; text-decoration-color: #008000\">'description'</span>: <span style=\"color: #008000; text-decoration-color: #008000\">''</span><span style=\"font-weight: bold\">}</span>\n",
       "<span style=\"color: #7fbf7f; text-decoration-color: #7fbf7f\">│   │   │   </span><span style=\"font-weight: bold\">}</span>,\n",
       "<span style=\"color: #7fbf7f; text-decoration-color: #7fbf7f\">│   │   │   </span><span style=\"color: #008000; text-decoration-color: #008000\">'required'</span>: <span style=\"font-weight: bold\">[</span><span style=\"color: #008000; text-decoration-color: #008000\">'a'</span>, <span style=\"color: #008000; text-decoration-color: #008000\">'b'</span><span style=\"font-weight: bold\">]</span>\n",
       "<span style=\"color: #7fbf7f; text-decoration-color: #7fbf7f\">│   │   </span><span style=\"font-weight: bold\">}</span>\n",
       "<span style=\"color: #7fbf7f; text-decoration-color: #7fbf7f\">│   </span><span style=\"font-weight: bold\">}</span>\n",
       "<span style=\"font-weight: bold\">}</span>\n",
       "</pre>\n"
      ],
      "text/plain": [
       "\u001b[1m{\u001b[0m\n",
       "\u001b[2;32m│   \u001b[0m\u001b[32m'type'\u001b[0m: \u001b[32m'function'\u001b[0m,\n",
       "\u001b[2;32m│   \u001b[0m\u001b[32m'function'\u001b[0m: \u001b[1m{\u001b[0m\n",
       "\u001b[2;32m│   │   \u001b[0m\u001b[32m'name'\u001b[0m: \u001b[32m'add_numbers'\u001b[0m,\n",
       "\u001b[2;32m│   │   \u001b[0m\u001b[32m'description'\u001b[0m: \u001b[32m'Adds two numbers.\\nArgs:\\n    a: The first number.\\n    b: The second number.'\u001b[0m,\n",
       "\u001b[2;32m│   │   \u001b[0m\u001b[32m'parameters'\u001b[0m: \u001b[1m{\u001b[0m\n",
       "\u001b[2;32m│   │   │   \u001b[0m\u001b[32m'type'\u001b[0m: \u001b[32m'object'\u001b[0m,\n",
       "\u001b[2;32m│   │   │   \u001b[0m\u001b[32m'properties'\u001b[0m: \u001b[1m{\u001b[0m\n",
       "\u001b[2;32m│   │   │   │   \u001b[0m\u001b[32m'a'\u001b[0m: \u001b[1m{\u001b[0m\u001b[32m'type'\u001b[0m: \u001b[32m'integer'\u001b[0m, \u001b[32m'description'\u001b[0m: \u001b[32m''\u001b[0m\u001b[1m}\u001b[0m,\n",
       "\u001b[2;32m│   │   │   │   \u001b[0m\u001b[32m'b'\u001b[0m: \u001b[1m{\u001b[0m\u001b[32m'type'\u001b[0m: \u001b[32m'integer'\u001b[0m, \u001b[32m'description'\u001b[0m: \u001b[32m''\u001b[0m\u001b[1m}\u001b[0m\n",
       "\u001b[2;32m│   │   │   \u001b[0m\u001b[1m}\u001b[0m,\n",
       "\u001b[2;32m│   │   │   \u001b[0m\u001b[32m'required'\u001b[0m: \u001b[1m[\u001b[0m\u001b[32m'a'\u001b[0m, \u001b[32m'b'\u001b[0m\u001b[1m]\u001b[0m\n",
       "\u001b[2;32m│   │   \u001b[0m\u001b[1m}\u001b[0m\n",
       "\u001b[2;32m│   \u001b[0m\u001b[1m}\u001b[0m\n",
       "\u001b[1m}\u001b[0m\n"
      ]
     },
     "metadata": {},
     "output_type": "display_data"
    }
   ],
   "source": [
    "tool_schema = generate_tool_schema(add_numbers)\n",
    "pprint(tool_schema)"
   ]
  },
  {
   "cell_type": "markdown",
   "id": "7867416e",
   "metadata": {},
   "source": [
    "Now, we define a `function_tool` \"processor\". This isn't a decorator in the `@` syntax sense here, but a function that we call *after* defining our tool function. It uses `generate_tool_schema` to attach the schema to the function object itself.\n"
   ]
  },
  {
   "cell_type": "code",
   "execution_count": 22,
   "id": "015ed9a3",
   "metadata": {},
   "outputs": [],
   "source": [
    "def function_tool(func: Callable) -> Callable:\n",
    "    \"\"\"Attaches a tool schema to the function and marks it as a tool.\n",
    "    Call this *after* defining your function: my_func = function_tool(my_func)\n",
    "    \"\"\"\n",
    "    try:\n",
    "        func.tool_schema = generate_tool_schema(func)\n",
    "        func.is_tool = True # Mark it as a tool\n",
    "    except Exception as e:\n",
    "        print(f\"Error processing tool {func.__name__}: {e}\")\n",
    "        # Optionally raise or mark as failed\n",
    "        func.tool_schema = None\n",
    "        func.is_tool = False\n",
    "    return func"
   ]
  },
  {
   "cell_type": "markdown",
   "id": "504243c6",
   "metadata": {},
   "source": [
    "We can use this function to automatically generate the schema for our tool, as a decorator or after the function is defined."
   ]
  },
  {
   "cell_type": "code",
   "execution_count": 23,
   "id": "8c424f21",
   "metadata": {},
   "outputs": [
    {
     "data": {
      "text/html": [
       "<pre style=\"white-space:pre;overflow-x:auto;line-height:normal;font-family:Menlo,'DejaVu Sans Mono',consolas,'Courier New',monospace\"><span style=\"font-weight: bold\">{</span>\n",
       "<span style=\"color: #7fbf7f; text-decoration-color: #7fbf7f\">│   </span><span style=\"color: #008000; text-decoration-color: #008000\">'type'</span>: <span style=\"color: #008000; text-decoration-color: #008000\">'function'</span>,\n",
       "<span style=\"color: #7fbf7f; text-decoration-color: #7fbf7f\">│   </span><span style=\"color: #008000; text-decoration-color: #008000\">'function'</span>: <span style=\"font-weight: bold\">{</span>\n",
       "<span style=\"color: #7fbf7f; text-decoration-color: #7fbf7f\">│   │   </span><span style=\"color: #008000; text-decoration-color: #008000\">'name'</span>: <span style=\"color: #008000; text-decoration-color: #008000\">'add_numbers'</span>,\n",
       "<span style=\"color: #7fbf7f; text-decoration-color: #7fbf7f\">│   │   </span><span style=\"color: #008000; text-decoration-color: #008000\">'description'</span>: <span style=\"color: #008000; text-decoration-color: #008000\">'Adds two numbers.\\nArgs:\\n    a: The first number.\\n    b: The second number.'</span>,\n",
       "<span style=\"color: #7fbf7f; text-decoration-color: #7fbf7f\">│   │   </span><span style=\"color: #008000; text-decoration-color: #008000\">'parameters'</span>: <span style=\"font-weight: bold\">{</span>\n",
       "<span style=\"color: #7fbf7f; text-decoration-color: #7fbf7f\">│   │   │   </span><span style=\"color: #008000; text-decoration-color: #008000\">'type'</span>: <span style=\"color: #008000; text-decoration-color: #008000\">'object'</span>,\n",
       "<span style=\"color: #7fbf7f; text-decoration-color: #7fbf7f\">│   │   │   </span><span style=\"color: #008000; text-decoration-color: #008000\">'properties'</span>: <span style=\"font-weight: bold\">{</span>\n",
       "<span style=\"color: #7fbf7f; text-decoration-color: #7fbf7f\">│   │   │   │   </span><span style=\"color: #008000; text-decoration-color: #008000\">'a'</span>: <span style=\"font-weight: bold\">{</span><span style=\"color: #008000; text-decoration-color: #008000\">'type'</span>: <span style=\"color: #008000; text-decoration-color: #008000\">'integer'</span>, <span style=\"color: #008000; text-decoration-color: #008000\">'description'</span>: <span style=\"color: #008000; text-decoration-color: #008000\">''</span><span style=\"font-weight: bold\">}</span>,\n",
       "<span style=\"color: #7fbf7f; text-decoration-color: #7fbf7f\">│   │   │   │   </span><span style=\"color: #008000; text-decoration-color: #008000\">'b'</span>: <span style=\"font-weight: bold\">{</span><span style=\"color: #008000; text-decoration-color: #008000\">'type'</span>: <span style=\"color: #008000; text-decoration-color: #008000\">'integer'</span>, <span style=\"color: #008000; text-decoration-color: #008000\">'description'</span>: <span style=\"color: #008000; text-decoration-color: #008000\">''</span><span style=\"font-weight: bold\">}</span>\n",
       "<span style=\"color: #7fbf7f; text-decoration-color: #7fbf7f\">│   │   │   </span><span style=\"font-weight: bold\">}</span>,\n",
       "<span style=\"color: #7fbf7f; text-decoration-color: #7fbf7f\">│   │   │   </span><span style=\"color: #008000; text-decoration-color: #008000\">'required'</span>: <span style=\"font-weight: bold\">[</span><span style=\"color: #008000; text-decoration-color: #008000\">'a'</span>, <span style=\"color: #008000; text-decoration-color: #008000\">'b'</span><span style=\"font-weight: bold\">]</span>\n",
       "<span style=\"color: #7fbf7f; text-decoration-color: #7fbf7f\">│   │   </span><span style=\"font-weight: bold\">}</span>\n",
       "<span style=\"color: #7fbf7f; text-decoration-color: #7fbf7f\">│   </span><span style=\"font-weight: bold\">}</span>\n",
       "<span style=\"font-weight: bold\">}</span>\n",
       "</pre>\n"
      ],
      "text/plain": [
       "\u001b[1m{\u001b[0m\n",
       "\u001b[2;32m│   \u001b[0m\u001b[32m'type'\u001b[0m: \u001b[32m'function'\u001b[0m,\n",
       "\u001b[2;32m│   \u001b[0m\u001b[32m'function'\u001b[0m: \u001b[1m{\u001b[0m\n",
       "\u001b[2;32m│   │   \u001b[0m\u001b[32m'name'\u001b[0m: \u001b[32m'add_numbers'\u001b[0m,\n",
       "\u001b[2;32m│   │   \u001b[0m\u001b[32m'description'\u001b[0m: \u001b[32m'Adds two numbers.\\nArgs:\\n    a: The first number.\\n    b: The second number.'\u001b[0m,\n",
       "\u001b[2;32m│   │   \u001b[0m\u001b[32m'parameters'\u001b[0m: \u001b[1m{\u001b[0m\n",
       "\u001b[2;32m│   │   │   \u001b[0m\u001b[32m'type'\u001b[0m: \u001b[32m'object'\u001b[0m,\n",
       "\u001b[2;32m│   │   │   \u001b[0m\u001b[32m'properties'\u001b[0m: \u001b[1m{\u001b[0m\n",
       "\u001b[2;32m│   │   │   │   \u001b[0m\u001b[32m'a'\u001b[0m: \u001b[1m{\u001b[0m\u001b[32m'type'\u001b[0m: \u001b[32m'integer'\u001b[0m, \u001b[32m'description'\u001b[0m: \u001b[32m''\u001b[0m\u001b[1m}\u001b[0m,\n",
       "\u001b[2;32m│   │   │   │   \u001b[0m\u001b[32m'b'\u001b[0m: \u001b[1m{\u001b[0m\u001b[32m'type'\u001b[0m: \u001b[32m'integer'\u001b[0m, \u001b[32m'description'\u001b[0m: \u001b[32m''\u001b[0m\u001b[1m}\u001b[0m\n",
       "\u001b[2;32m│   │   │   \u001b[0m\u001b[1m}\u001b[0m,\n",
       "\u001b[2;32m│   │   │   \u001b[0m\u001b[32m'required'\u001b[0m: \u001b[1m[\u001b[0m\u001b[32m'a'\u001b[0m, \u001b[32m'b'\u001b[0m\u001b[1m]\u001b[0m\n",
       "\u001b[2;32m│   │   \u001b[0m\u001b[1m}\u001b[0m\n",
       "\u001b[2;32m│   \u001b[0m\u001b[1m}\u001b[0m\n",
       "\u001b[1m}\u001b[0m\n"
      ]
     },
     "metadata": {},
     "output_type": "display_data"
    }
   ],
   "source": [
    "add_numbers = function_tool(add_numbers)\n",
    "pprint(add_numbers.tool_schema)\n"
   ]
  },
  {
   "cell_type": "code",
   "execution_count": 24,
   "id": "8c651811",
   "metadata": {},
   "outputs": [
    {
     "data": {
      "text/plain": [
       "{'type': 'function',\n",
       " 'function': {'name': 'add_numbers',\n",
       "  'description': 'Adds two numbers.\\nArgs:\\n    a: The first number.\\n    b: The second number.',\n",
       "  'parameters': {'type': 'object',\n",
       "   'properties': {'a': {'type': 'integer', 'description': ''},\n",
       "    'b': {'type': 'integer', 'description': ''}},\n",
       "   'required': ['a', 'b']}}}"
      ]
     },
     "execution_count": 24,
     "metadata": {},
     "output_type": "execute_result"
    }
   ],
   "source": [
    "add_numbers.tool_schema"
   ]
  },
  {
   "cell_type": "markdown",
   "id": "d7280921",
   "metadata": {},
   "source": [
    "and call the tool =)"
   ]
  },
  {
   "cell_type": "code",
   "execution_count": 25,
   "id": "70bd946a",
   "metadata": {},
   "outputs": [
    {
     "data": {
      "text/plain": [
       "3"
      ]
     },
     "execution_count": 25,
     "metadata": {},
     "output_type": "execute_result"
    }
   ],
   "source": [
    "add_numbers(1, 2)"
   ]
  },
  {
   "cell_type": "markdown",
   "id": "265ef16e",
   "metadata": {},
   "source": [
    "### 3.1 Real Example using an API based tool"
   ]
  },
  {
   "cell_type": "markdown",
   "id": "5227a8a9",
   "metadata": {},
   "source": [
    "Let's create a real example hitting an API: The pokemon API"
   ]
  },
  {
   "cell_type": "code",
   "execution_count": 27,
   "id": "7972869e",
   "metadata": {},
   "outputs": [],
   "source": [
    "@weave.op \n",
    "@function_tool # <- we can use the decorator to automatically generate the tool schema\n",
    "def get_pokemon_info(pokemon_name: str) -> str:\n",
    "    \"\"\"Fetches minimal information (name, ID, weight) for a specific Pokemon. Weight is in hectograms.\n",
    "\n",
    "    Args:\n",
    "        pokemon_name: The name or Pokedex ID of the Pokemon.\n",
    "    \"\"\"\n",
    "    base_url = \"https://pokeapi.co/api/v2/pokemon/\"\n",
    "    try:\n",
    "        response = requests.get(f\"{base_url}{pokemon_name.lower().strip()}\")\n",
    "        response.raise_for_status() # Raise HTTPError for bad responses (4xx or 5xx)\n",
    "        data = response.json()\n",
    "        info = {\n",
    "            \"name\": data.get('name', 'Unknown').capitalize(),\n",
    "            \"id\": data.get('id', -1),\n",
    "            \"weight\": data.get('weight', -1) # Weight in hectograms\n",
    "        }\n",
    "        return info\n",
    "    except Exception as e:\n",
    "        return {\"error\": f\"Error fetching pokemon {pokemon_name}: {str(e)}\"}"
   ]
  },
  {
   "cell_type": "code",
   "execution_count": 29,
   "id": "af6c3b9a",
   "metadata": {},
   "outputs": [
    {
     "data": {
      "text/plain": [
       "{'type': 'function',\n",
       " 'function': {'name': 'get_pokemon_info',\n",
       "  'description': 'Fetches minimal information (name, ID, weight) for a specific Pokemon. Weight is in hectograms.\\n\\nArgs:\\n    pokemon_name: The name or Pokedex ID of the Pokemon.',\n",
       "  'parameters': {'type': 'object',\n",
       "   'properties': {'pokemon_name': {'type': 'string', 'description': ''}},\n",
       "   'required': ['pokemon_name']}}}"
      ]
     },
     "execution_count": 29,
     "metadata": {},
     "output_type": "execute_result"
    }
   ],
   "source": [
    "get_pokemon_info.tool_schema"
   ]
  },
  {
   "cell_type": "code",
   "execution_count": 30,
   "id": "fb22b679",
   "metadata": {},
   "outputs": [
    {
     "name": "stdout",
     "output_type": "stream",
     "text": [
      "🍩 https://wandb.ai/capecape/paris-woprkshop-2025/r/call/0196b438-52fe-7e10-a107-677affd7607d\n",
      "🍩 https://wandb.ai/capecape/paris-woprkshop-2025/r/call/0196b438-db90-7150-ba99-c7b89c91a5b6\n",
      "🍩 https://wandb.ai/capecape/paris-woprkshop-2025/r/call/0196b438-dbe6-7bd3-9465-f100c06e917e\n",
      "🍩 https://wandb.ai/capecape/paris-woprkshop-2025/r/call/0196b44d-0634-7561-ae11-f89a3fc65594\n",
      "🍩 https://wandb.ai/capecape/paris-woprkshop-2025/r/call/0196b48e-ea50-72d0-b4d0-11f3392ca3fd\n",
      "🍩 https://wandb.ai/capecape/paris-woprkshop-2025/r/call/0196b490-7360-7cd0-870c-f03bdbfe122d\n",
      "🍩 https://wandb.ai/capecape/paris-woprkshop-2025/r/call/0196b491-02d0-7c30-adc8-96ddcb649904\n"
     ]
    },
    {
     "data": {
      "text/plain": [
       "{'name': 'Pikachu', 'id': 25, 'weight': 60}"
      ]
     },
     "execution_count": 30,
     "metadata": {},
     "output_type": "execute_result"
    }
   ],
   "source": [
    "get_pokemon_info(\"pikachu\")"
   ]
  },
  {
   "cell_type": "code",
   "execution_count": 31,
   "id": "82a073e8",
   "metadata": {},
   "outputs": [
    {
     "name": "stdout",
     "output_type": "stream",
     "text": [
      "🍩 https://wandb.ai/capecape/paris-woprkshop-2025/r/call/0196b438-7d86-7251-a6b6-e1bd7298920a\n",
      "🍩 https://wandb.ai/capecape/paris-woprkshop-2025/r/call/0196b438-f8a2-7ef3-a8e1-f23b962af356\n",
      "🍩 https://wandb.ai/capecape/paris-woprkshop-2025/r/call/0196b449-cddb-7f00-8920-147bbbf91f7d\n",
      "🍩 https://wandb.ai/capecape/paris-woprkshop-2025/r/call/0196b451-0a9c-7ae1-9390-87469ea2c103\n",
      "🍩 https://wandb.ai/capecape/paris-woprkshop-2025/r/call/0196b485-f515-7bd1-a2d9-2269d0e88e4c\n"
     ]
    },
    {
     "data": {
      "text/html": [
       "<pre style=\"white-space:pre;overflow-x:auto;line-height:normal;font-family:Menlo,'DejaVu Sans Mono',consolas,'Courier New',monospace\"><span style=\"color: #800080; text-decoration-color: #800080; font-weight: bold\">AssistantMessage</span><span style=\"font-weight: bold\">(</span>\n",
       "<span style=\"color: #7fbf7f; text-decoration-color: #7fbf7f\">│   </span><span style=\"color: #808000; text-decoration-color: #808000\">content</span>=<span style=\"color: #008000; text-decoration-color: #008000\">''</span>,\n",
       "<span style=\"color: #7fbf7f; text-decoration-color: #7fbf7f\">│   </span><span style=\"color: #808000; text-decoration-color: #808000\">tool_calls</span>=<span style=\"font-weight: bold\">[</span>\n",
       "<span style=\"color: #7fbf7f; text-decoration-color: #7fbf7f\">│   │   </span><span style=\"color: #800080; text-decoration-color: #800080; font-weight: bold\">ToolCall</span><span style=\"font-weight: bold\">(</span>\n",
       "<span style=\"color: #7fbf7f; text-decoration-color: #7fbf7f\">│   │   │   </span><span style=\"color: #808000; text-decoration-color: #808000\">function</span>=<span style=\"color: #800080; text-decoration-color: #800080; font-weight: bold\">FunctionCall</span><span style=\"font-weight: bold\">(</span><span style=\"color: #808000; text-decoration-color: #808000\">name</span>=<span style=\"color: #008000; text-decoration-color: #008000\">'get_pokemon_info'</span>, <span style=\"color: #808000; text-decoration-color: #808000\">arguments</span>=<span style=\"color: #008000; text-decoration-color: #008000\">'{\"pokemon_name\": \"Pikachu\"}'</span><span style=\"font-weight: bold\">)</span>,\n",
       "<span style=\"color: #7fbf7f; text-decoration-color: #7fbf7f\">│   │   │   </span><span style=\"color: #808000; text-decoration-color: #808000\">id</span>=<span style=\"color: #008000; text-decoration-color: #008000\">'TiekqiK6c'</span>,\n",
       "<span style=\"color: #7fbf7f; text-decoration-color: #7fbf7f\">│   │   │   </span><span style=\"color: #808000; text-decoration-color: #808000\">type</span>=<span style=\"color: #800080; text-decoration-color: #800080; font-style: italic\">None</span>,\n",
       "<span style=\"color: #7fbf7f; text-decoration-color: #7fbf7f\">│   │   │   </span><span style=\"color: #808000; text-decoration-color: #808000\">index</span>=<span style=\"color: #008080; text-decoration-color: #008080; font-weight: bold\">0</span>\n",
       "<span style=\"color: #7fbf7f; text-decoration-color: #7fbf7f\">│   │   </span><span style=\"font-weight: bold\">)</span>\n",
       "<span style=\"color: #7fbf7f; text-decoration-color: #7fbf7f\">│   </span><span style=\"font-weight: bold\">]</span>,\n",
       "<span style=\"color: #7fbf7f; text-decoration-color: #7fbf7f\">│   </span><span style=\"color: #808000; text-decoration-color: #808000\">prefix</span>=<span style=\"color: #ff0000; text-decoration-color: #ff0000; font-style: italic\">False</span>,\n",
       "<span style=\"color: #7fbf7f; text-decoration-color: #7fbf7f\">│   </span><span style=\"color: #808000; text-decoration-color: #808000\">role</span>=<span style=\"color: #008000; text-decoration-color: #008000\">'assistant'</span>\n",
       "<span style=\"font-weight: bold\">)</span>\n",
       "</pre>\n"
      ],
      "text/plain": [
       "\u001b[1;35mAssistantMessage\u001b[0m\u001b[1m(\u001b[0m\n",
       "\u001b[2;32m│   \u001b[0m\u001b[33mcontent\u001b[0m=\u001b[32m''\u001b[0m,\n",
       "\u001b[2;32m│   \u001b[0m\u001b[33mtool_calls\u001b[0m=\u001b[1m[\u001b[0m\n",
       "\u001b[2;32m│   │   \u001b[0m\u001b[1;35mToolCall\u001b[0m\u001b[1m(\u001b[0m\n",
       "\u001b[2;32m│   │   │   \u001b[0m\u001b[33mfunction\u001b[0m=\u001b[1;35mFunctionCall\u001b[0m\u001b[1m(\u001b[0m\u001b[33mname\u001b[0m=\u001b[32m'get_pokemon_info'\u001b[0m, \u001b[33marguments\u001b[0m=\u001b[32m'\u001b[0m\u001b[32m{\u001b[0m\u001b[32m\"pokemon_name\": \"Pikachu\"\u001b[0m\u001b[32m}\u001b[0m\u001b[32m'\u001b[0m\u001b[1m)\u001b[0m,\n",
       "\u001b[2;32m│   │   │   \u001b[0m\u001b[33mid\u001b[0m=\u001b[32m'TiekqiK6c'\u001b[0m,\n",
       "\u001b[2;32m│   │   │   \u001b[0m\u001b[33mtype\u001b[0m=\u001b[3;35mNone\u001b[0m,\n",
       "\u001b[2;32m│   │   │   \u001b[0m\u001b[33mindex\u001b[0m=\u001b[1;36m0\u001b[0m\n",
       "\u001b[2;32m│   │   \u001b[0m\u001b[1m)\u001b[0m\n",
       "\u001b[2;32m│   \u001b[0m\u001b[1m]\u001b[0m,\n",
       "\u001b[2;32m│   \u001b[0m\u001b[33mprefix\u001b[0m=\u001b[3;91mFalse\u001b[0m,\n",
       "\u001b[2;32m│   \u001b[0m\u001b[33mrole\u001b[0m=\u001b[32m'assistant'\u001b[0m\n",
       "\u001b[1m)\u001b[0m\n"
      ]
     },
     "metadata": {},
     "output_type": "display_data"
    }
   ],
   "source": [
    "messages = [\n",
    "    {\"role\": \"system\", \"content\": \"You are a helpful assistant that can use tools to answer questions.\"},\n",
    "    {\"role\": \"user\", \"content\": \"What is the weight of Pikachu?\"}]\n",
    "\n",
    "response = call_model(model_name=MISTRAL_SMALL_MODEL, messages=messages, tools=[get_pokemon_info.tool_schema])\n",
    "pprint(response)"
   ]
  },
  {
   "cell_type": "markdown",
   "id": "d7350625",
   "metadata": {},
   "source": [
    "Let's create some helper functions to perform the tool calls"
   ]
  },
  {
   "cell_type": "code",
   "execution_count": 69,
   "id": "0938e29b",
   "metadata": {},
   "outputs": [],
   "source": [
    "from mistralai import ToolCall\n",
    "\n",
    "def get_tool(tools: list[Callable], name: str) -> Callable:\n",
    "    for t in tools:\n",
    "        if t.__name__ == name:\n",
    "            return t\n",
    "    raise KeyError(f\"No tool with name {name} found\")\n",
    "\n",
    "def perform_tool_calls(tools: list[Callable], tool_calls: list[ToolCall]) -> list[dict]:\n",
    "    \"Perform the tool calls and return the messages with the tool call results\"\n",
    "    messages = []\n",
    "    for tool_call in tool_calls:\n",
    "        print(f\"Performing tool call: {tool_call.function.name}\")\n",
    "        print(f\"  - Args: {tool_call.function.arguments}\")\n",
    "        function_name = tool_call.function.name\n",
    "        function_args = json.loads(tool_call.function.arguments)\n",
    "        tool = get_tool(tools, function_name)\n",
    "        tool_response = tool(**function_args)\n",
    "        print(f\"  - Response: {tool_response}\")\n",
    "        messages.append({\n",
    "            \"tool_call_id\": tool_call.id,\n",
    "            \"role\": \"tool\",\n",
    "            \"content\": str(tool_response),\n",
    "        })\n",
    "    return messages"
   ]
  },
  {
   "cell_type": "code",
   "execution_count": 70,
   "id": "c5881ecb",
   "metadata": {},
   "outputs": [
    {
     "name": "stdout",
     "output_type": "stream",
     "text": [
      "Performing tool call: get_pokemon_info\n",
      "  - Args: {\"pokemon_name\": \"Pikachu\"}\n",
      "  - Response: {'name': 'Pikachu', 'id': 25, 'weight': 60}\n",
      "Pikachu weighs 60 pounds.\n"
     ]
    }
   ],
   "source": [
    "\n",
    "# add the tool call result to the messages\n",
    "messages.append(response.model_dump())\n",
    "messages.extend(perform_tool_calls(tools=[get_pokemon_info], tool_calls=response.tool_calls))\n",
    "\n",
    "final_response = call_model(model_name=MISTRAL_SMALL_MODEL, messages=messages)\n",
    "print(final_response.content)\n"
   ]
  },
  {
   "cell_type": "markdown",
   "id": "b3956939",
   "metadata": {},
   "source": [
    "Let's wrap this in a function and add a few more tools."
   ]
  },
  {
   "cell_type": "code",
   "execution_count": 71,
   "id": "10ab1b81",
   "metadata": {},
   "outputs": [],
   "source": [
    "@weave.op\n",
    "def pokedex(pokemon_question: str) -> str:\n",
    "    messages = [\n",
    "        {\"role\": \"system\", \"content\": \"You are a helpful assistant that can use tools to answer questions.\"},\n",
    "        {\"role\": \"user\", \"content\": pokemon_question}]\n",
    "\n",
    "    # call model with tools\n",
    "    response = call_model(\n",
    "        model_name=MISTRAL_SMALL_MODEL, \n",
    "        messages=messages, \n",
    "        tools=[get_pokemon_info.tool_schema, \n",
    "            add_numbers.tool_schema])\n",
    "\n",
    "    # add the response to the messages\n",
    "    messages.append(response.model_dump())\n",
    "\n",
    "    # perform the tool calls\n",
    "    messages.extend(perform_tool_calls(tools=[get_pokemon_info, add_numbers], tool_calls=response.tool_calls))\n",
    "\n",
    "    final_response = call_model(model_name=MISTRAL_SMALL_MODEL, messages=messages)\n",
    "    return final_response.content"
   ]
  },
  {
   "cell_type": "code",
   "execution_count": 72,
   "id": "bc0183b1",
   "metadata": {},
   "outputs": [
    {
     "name": "stdout",
     "output_type": "stream",
     "text": [
      "Performing tool call: get_pokemon_info\n",
      "  - Args: {\"pokemon_name\": \"pikachu\"}\n",
      "  - Response: {'name': 'Pikachu', 'id': 25, 'weight': 60}\n",
      "Performing tool call: get_pokemon_info\n",
      "  - Args: {\"pokemon_name\": \"caterpie\"}\n",
      "  - Response: {'name': 'Caterpie', 'id': 10, 'weight': 29}\n",
      "Performing tool call: get_pokemon_info\n",
      "  - Args: {\"pokemon_name\": \"butterfree\"}\n",
      "  - Response: {'name': 'Butterfree', 'id': 12, 'weight': 320}\n"
     ]
    },
    {
     "data": {
      "text/plain": [
       "\"The combined weight of Ash's first 3 Pokémon is 409 units.\""
      ]
     },
     "execution_count": 72,
     "metadata": {},
     "output_type": "execute_result"
    }
   ],
   "source": [
    "pokedex(\"What is the combined weight of Ash's first 3 pokemons?\")"
   ]
  },
  {
   "cell_type": "markdown",
   "id": "dedaa4a4",
   "metadata": {},
   "source": [
    "![](images/04_pokedex.png)\n",
    "\n",
    "This is \"Almost\" an agent, but it's missing the loop. Let's add that next."
   ]
  },
  {
   "cell_type": "markdown",
   "id": "efd890f5",
   "metadata": {},
   "source": [
    "## 4. Implementing a Basic Agentic Loop\n",
    "\n",
    "Let's implement a basic agentic loop. We'll use the `pokedex` function we just created. The implementation we have above has some limitations:\n",
    "- Its a single turn, so if it fails to answer my question in one pass it is over.\n",
    "\n",
    "![](images/05_agent.png)\n",
    "\n",
    "From the really good [Anthropic Building Effective Agents](https://www.anthropic.com/engineering/building-effective-agents) article and encourage people to read it."
   ]
  },
  {
   "cell_type": "markdown",
   "id": "1737003e",
   "metadata": {},
   "source": [
    "A simple for loop"
   ]
  },
  {
   "cell_type": "code",
   "execution_count": 73,
   "id": "63bc2975",
   "metadata": {},
   "outputs": [],
   "source": [
    "@weave.op\n",
    "def pokedex_loop(pokemon_question: str, max_turns: int = 4, tools = [get_pokemon_info, add_numbers]) -> str:\n",
    "    messages = [\n",
    "        {\"role\": \"system\", \"content\": \"You are a helpful assistant that can use tools to answer questions.\"},\n",
    "        {\"role\": \"user\", \"content\": pokemon_question}]\n",
    "\n",
    "    \n",
    "    for turn in range(max_turns):\n",
    "        print(f\"--- Agent Loop Turn {turn + 1}/{max_turns} ---\")\n",
    "\n",
    "        # call model with tools\n",
    "        response = call_model(\n",
    "            model_name=MISTRAL_SMALL_MODEL, \n",
    "            messages=messages, \n",
    "            tools=[t.tool_schema for t in tools])\n",
    "\n",
    "        # add the response to the messages\n",
    "        messages.append(response.model_dump())\n",
    "\n",
    "        # if the LLM requested tool calls, perform them\n",
    "        if response.tool_calls:\n",
    "            print(\"LLM requested tool calls:\")\n",
    "            # perform the tool calls\n",
    "            tool_outputs = perform_tool_calls(tools=[get_pokemon_info, add_numbers], tool_calls=response.tool_calls)\n",
    "            messages.extend(tool_outputs)\n",
    "        # LLM gave content response\n",
    "        elif response.content:\n",
    "            print(f\"LLM content response: {response.content}\")\n",
    "            return response.content\n",
    "        else:\n",
    "            print(\"LLM response had neither content nor tool calls. Stopping loop.\")\n",
    "            break"
   ]
  },
  {
   "cell_type": "code",
   "execution_count": 74,
   "id": "fecad3a4",
   "metadata": {},
   "outputs": [
    {
     "name": "stdout",
     "output_type": "stream",
     "text": [
      "--- Agent Loop Turn 1/4 ---\n",
      "LLM requested tool calls:\n",
      "Performing tool call: get_pokemon_info\n",
      "  - Args: {\"pokemon_name\": \"pikachu\"}\n",
      "  - Response: {'name': 'Pikachu', 'id': 25, 'weight': 60}\n",
      "Performing tool call: get_pokemon_info\n",
      "  - Args: {\"pokemon_name\": \"caterpie\"}\n",
      "  - Response: {'name': 'Caterpie', 'id': 10, 'weight': 29}\n",
      "Performing tool call: get_pokemon_info\n",
      "  - Args: {\"pokemon_name\": \"pidgey\"}\n",
      "  - Response: {'name': 'Pidgey', 'id': 16, 'weight': 18}\n",
      "--- Agent Loop Turn 2/4 ---\n",
      "LLM requested tool calls:\n",
      "Performing tool call: add_numbers\n",
      "  - Args: {\"a\": 60, \"b\": 29}\n",
      "  - Response: 89\n",
      "Performing tool call: add_numbers\n",
      "  - Args: {\"a\": 60, \"b\": 18}\n",
      "  - Response: 78\n",
      "--- Agent Loop Turn 3/4 ---\n",
      "LLM content response: The combined weight of Ash's first 3 pokemons is 167 hectograms.\n"
     ]
    },
    {
     "data": {
      "text/plain": [
       "\"The combined weight of Ash's first 3 pokemons is 167 hectograms.\""
      ]
     },
     "execution_count": 74,
     "metadata": {},
     "output_type": "execute_result"
    }
   ],
   "source": [
    "pokedex_loop(\"What is the combined weight of Ash's first 3 pokemons?\")"
   ]
  },
  {
   "cell_type": "code",
   "execution_count": 75,
   "id": "83e96dfe",
   "metadata": {},
   "outputs": [
    {
     "name": "stdout",
     "output_type": "stream",
     "text": [
      "--- Agent Loop Turn 1/4 ---\n",
      "LLM requested tool calls:\n",
      "Performing tool call: get_pokemon_info\n",
      "  - Args: {\"pokemon_name\": \"pikachu\"}\n",
      "  - Response: {'name': 'Pikachu', 'id': 25, 'weight': 60}\n",
      "Performing tool call: get_pokemon_info\n",
      "  - Args: {\"pokemon_name\": \"caterpie\"}\n",
      "  - Response: {'name': 'Caterpie', 'id': 10, 'weight': 29}\n",
      "Performing tool call: get_pokemon_info\n",
      "  - Args: {\"pokemon_name\": \"pidgey\"}\n",
      "  - Response: {'name': 'Pidgey', 'id': 16, 'weight': 18}\n",
      "--- Agent Loop Turn 2/4 ---\n",
      "LLM content response: Ash's first three Pokémon are Pikachu, Caterpie, and Pidgey. Their combined weight is 107 hectograms.\n"
     ]
    },
    {
     "data": {
      "text/plain": [
       "\"Ash's first three Pokémon are Pikachu, Caterpie, and Pidgey. Their combined weight is 107 hectograms.\""
      ]
     },
     "execution_count": 75,
     "metadata": {},
     "output_type": "execute_result"
    }
   ],
   "source": [
    "pokedex_loop(\"Name Ash's first 3 pokemons and calculate their combined weight?\")"
   ]
  },
  {
   "cell_type": "markdown",
   "id": "7c031bde",
   "metadata": {},
   "source": [
    "![](images/06_pokedex_loop.png)"
   ]
  },
  {
   "cell_type": "markdown",
   "id": "238a3967",
   "metadata": {},
   "source": [
    "This one is kind of an hallucination, I was expecting snorlax to be the heaviest pokemon."
   ]
  },
  {
   "cell_type": "code",
   "execution_count": 76,
   "id": "ba8cf35c",
   "metadata": {},
   "outputs": [
    {
     "name": "stdout",
     "output_type": "stream",
     "text": [
      "--- Agent Loop Turn 1/4 ---\n",
      "LLM requested tool calls:\n",
      "Performing tool call: get_pokemon_info\n",
      "  - Args: {\"pokemon_name\": \"1\"}\n",
      "  - Response: {'name': 'Bulbasaur', 'id': 1, 'weight': 69}\n",
      "--- Agent Loop Turn 2/4 ---\n",
      "LLM requested tool calls:\n",
      "Performing tool call: get_pokemon_info\n",
      "  - Args: {\"pokemon_name\": \"2\"}\n",
      "  - Response: {'name': 'Ivysaur', 'id': 2, 'weight': 130}\n",
      "--- Agent Loop Turn 3/4 ---\n",
      "LLM requested tool calls:\n",
      "Performing tool call: get_pokemon_info\n",
      "  - Args: {\"pokemon_name\": \"3\"}\n",
      "  - Response: {'name': 'Venusaur', 'id': 3, 'weight': 1000}\n",
      "--- Agent Loop Turn 4/4 ---\n",
      "LLM content response: The heaviest pokemon is Venusaur, with a weight of 1000 hectograms.\n"
     ]
    },
    {
     "data": {
      "text/plain": [
       "'The heaviest pokemon is Venusaur, with a weight of 1000 hectograms.'"
      ]
     },
     "execution_count": 76,
     "metadata": {},
     "output_type": "execute_result"
    }
   ],
   "source": [
    "pokedex_loop(\"Which is the heaviest pokemon?\")"
   ]
  },
  {
   "cell_type": "markdown",
   "id": "60e589c3",
   "metadata": {},
   "source": [
    "6. Structuring the Agent with Classes\n",
    "\n",
    "The loop above works, but for more complex agents, encapsulating the logic and state within classes is much better. We'll define:\n",
    "- `AgentState`: A Pydantic model to hold the conversation history and potentially other state.\n",
    "- `SimpleAgent`: A class containing the agent's configuration (model, system message, tools) and logic (`step`, `run`)."
   ]
  },
  {
   "cell_type": "code",
   "execution_count": 77,
   "id": "31f65412",
   "metadata": {},
   "outputs": [],
   "source": [
    "class AgentState(BaseModel):\n",
    "    \"\"\"Manages the state of the agent.\"\"\"\n",
    "    messages: List[Dict[str, Any]] = Field(default_factory=list)\n",
    "    step: int = Field(default=0)\n",
    "    final_assistant_content: str | None = None # Populated at the end of a run"
   ]
  },
  {
   "cell_type": "code",
   "execution_count": 82,
   "id": "26f57c8e",
   "metadata": {},
   "outputs": [],
   "source": [
    "class SimpleAgent:\n",
    "    \"\"\"A simple agent class with tracing, state, and tool processing.\"\"\"\n",
    "    def __init__(self, model_name: str, system_message: str, tools: List[Callable]):\n",
    "        self.model_name = model_name\n",
    "        self.system_message = system_message\n",
    "        self.tools = [function_tool(t) for t in tools] # add schemas to the tools\n",
    "    \n",
    "    @weave.op(name=\"SimpleAgent.step\") # Trace each step\n",
    "    def step(self, state: AgentState) -> AgentState:\n",
    "        step = state.step + 1\n",
    "        messages = state.messages\n",
    "        final_assistant_content = None\n",
    "        try:\n",
    "            # call model with tools\n",
    "            response = call_model(\n",
    "                model_name=self.model_name, \n",
    "                messages=messages, \n",
    "                tools=[t.tool_schema for t in self.tools])\n",
    "\n",
    "            # add the response to the messages\n",
    "            messages.append(response.model_dump())\n",
    "\n",
    "            # if the LLM requested tool calls, perform them\n",
    "            if response.tool_calls:\n",
    "                print(\"LLM requested tool calls:\")\n",
    "                # perform the tool calls\n",
    "                tool_outputs = perform_tool_calls(tools=[get_pokemon_info, add_numbers], tool_calls=response.tool_calls)\n",
    "                messages.extend(tool_outputs)\n",
    "\n",
    "            # LLM gave content response\n",
    "            else:\n",
    "                messages.append(response.model_dump())\n",
    "                final_assistant_content = response.content\n",
    "        except Exception as e:\n",
    "            print(f\"ERROR in Agent Step: {e}\")\n",
    "            # Add an error message to history to indicate failure\n",
    "            messages.append({\"role\": \"assistant\", \"content\": f\"Agent error in step: {str(e)}\"})\n",
    "            final_assistant_content = f\"Agent error in step {step}: {str(e)}\"\n",
    "        return AgentState(messages=messages, step=step, final_assistant_content=final_assistant_content)\n",
    "\n",
    "    @weave.op(name=\"SimpleAgent.run\")\n",
    "    def run(self, user_prompt: str, max_turns: int = 10) -> AgentState:\n",
    "        state = AgentState(messages=[{\"role\": \"user\", \"content\": user_prompt}])\n",
    "        for _ in range(max_turns):\n",
    "            print(f\"--- Agent Loop Turn {state.step}/{max_turns} ---\")\n",
    "            state = self.step(state)\n",
    "            if state.final_assistant_content:\n",
    "                return state\n",
    "        return state\n"
   ]
  },
  {
   "cell_type": "markdown",
   "id": "80842566",
   "metadata": {},
   "source": [
    "![](images/07_simple_agent.png)"
   ]
  },
  {
   "cell_type": "code",
   "execution_count": null,
   "id": "6ce6b40a",
   "metadata": {},
   "outputs": [
    {
     "name": "stdout",
     "output_type": "stream",
     "text": [
      "--- Agent Loop Turn 0/10 ---\n",
      "LLM requested tool calls:\n",
      "Performing tool call: get_pokemon_info\n",
      "  - Args: {\"pokemon_name\": \"Pikachu\"}\n",
      "  - Response: {'name': 'Pikachu', 'id': 25, 'weight': 60}\n",
      "Performing tool call: get_pokemon_info\n",
      "  - Args: {\"pokemon_name\": \"Caterpie\"}\n",
      "  - Response: {'name': 'Caterpie', 'id': 10, 'weight': 29}\n",
      "Performing tool call: get_pokemon_info\n",
      "  - Args: {\"pokemon_name\": \"Pidgey\"}\n",
      "  - Response: {'name': 'Pidgey', 'id': 16, 'weight': 18}\n",
      "--- Agent Loop Turn 1/10 ---\n",
      "LLM requested tool calls:\n",
      "Performing tool call: add_numbers\n",
      "  - Args: {\"a\": 60, \"b\": 29}\n",
      "  - Response: 89\n",
      "Performing tool call: add_numbers\n",
      "  - Args: {\"a\": 60, \"b\": 18}\n",
      "  - Response: 78\n",
      "--- Agent Loop Turn 2/10 ---\n",
      "The combined weight of Ash's first 3 pokemons is 89 + 78 = 167 hectograms.\n"
     ]
    }
   ],
   "source": [
    "agent = SimpleAgent(\n",
    "    model_name=MISTRAL_SMALL_MODEL,\n",
    "    system_message=\"You are a helpful assistant that can use tools to answer questions.\",\n",
    "    tools=[get_pokemon_info, add_numbers]\n",
    ")\n",
    "state = agent.run(user_prompt=\"What is the combined weight of Ash's first 3 pokemons?\")\n",
    "print(f\"Final response: {state.final_assistant_content}\")\n"
   ]
  }
 ],
 "metadata": {
  "kernelspec": {
   "display_name": ".venv",
   "language": "python",
   "name": "python3"
  },
  "language_info": {
   "codemirror_mode": {
    "name": "ipython",
    "version": 3
   },
   "file_extension": ".py",
   "mimetype": "text/x-python",
   "name": "python",
   "nbconvert_exporter": "python",
   "pygments_lexer": "ipython3",
   "version": "3.12.9"
  }
 },
 "nbformat": 4,
 "nbformat_minor": 5
}
